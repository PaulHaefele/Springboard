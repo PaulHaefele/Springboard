{
 "cells": [
  {
   "cell_type": "markdown",
   "metadata": {
    "colab_type": "text",
    "id": "WNK7vbHo-KYU"
   },
   "source": [
    "## Bayesian methods of hyperparameter optimization"
   ]
  },
  {
   "cell_type": "markdown",
   "metadata": {
    "colab_type": "text",
    "id": "BlFdvPwF-KYW"
   },
   "source": [
    "In addition to the random search and the grid search methods for selecting optimal hyperparameters, we can use Bayesian methods of probabilities to select the optimal hyperparameters for an algorithm.\n",
    "\n",
    "In this case study, we will be using the BayesianOptimization library to perform hyperparmater tuning. This library has very good documentation which you can find here: https://github.com/fmfn/BayesianOptimization\n",
    "\n",
    "You will need to install the Bayesian optimization module. Running a cell with an exclamation point in the beginning of the command will run it as a shell command — please do this to install this module from our notebook in the cell below."
   ]
  },
  {
   "cell_type": "code",
   "execution_count": 17,
   "metadata": {
    "ExecuteTime": {
     "end_time": "2019-04-22T16:39:09.312682Z",
     "start_time": "2019-04-22T16:39:09.309208Z"
    },
    "_kg_hide-input": true,
    "colab": {},
    "colab_type": "code",
    "id": "l9nfFTyj-KYY"
   },
   "outputs": [],
   "source": [
    "import warnings\n",
    "warnings.filterwarnings('ignore')\n",
    "from sklearn.preprocessing import LabelEncoder\n",
    "import numpy as np\n",
    "import pandas as pd\n",
    "import lightgbm as lgb\n",
    "from bayes_opt import BayesianOptimization\n",
    "from catboost import CatBoostClassifier, cv, Pool"
   ]
  },
  {
   "cell_type": "markdown",
   "metadata": {
    "ExecuteTime": {
     "end_time": "2019-04-22T14:48:15.929012Z",
     "start_time": "2019-04-22T14:48:15.926574Z"
    },
    "colab_type": "text",
    "id": "AkBt3yds-KYu"
   },
   "source": [
    "## How does Bayesian optimization work?"
   ]
  },
  {
   "cell_type": "markdown",
   "metadata": {
    "colab_type": "text",
    "id": "E1kyBCUs-KYv"
   },
   "source": [
    "Bayesian optimization works by constructing a posterior distribution of functions (Gaussian process) that best describes the function you want to optimize. As the number of observations grows, the posterior distribution improves, and the algorithm becomes more certain of which regions in parameter space are worth exploring and which are not, as seen in the picture below."
   ]
  },
  {
   "cell_type": "markdown",
   "metadata": {
    "colab_type": "text",
    "id": "gAdHF72R-KYw"
   },
   "source": [
    "<img src=\"https://github.com/fmfn/BayesianOptimization/blob/master/examples/bo_example.png?raw=true\" />\n",
    "As you iterate over and over, the algorithm balances its needs of exploration and exploitation while taking into account what it knows about the target function. At each step, a Gaussian Process is fitted to the known samples (points previously explored), and the posterior distribution, combined with an exploration strategy (such as UCB — aka Upper Confidence Bound), or EI (Expected Improvement). This process is used to determine the next point that should be explored (see the gif below).\n",
    "<img src=\"https://github.com/fmfn/BayesianOptimization/raw/master/examples/bayesian_optimization.gif\" />"
   ]
  },
  {
   "cell_type": "markdown",
   "metadata": {
    "colab_type": "text",
    "id": "RTP8KUlLoYzu"
   },
   "source": [
    "## Let's look at a simple example"
   ]
  },
  {
   "cell_type": "markdown",
   "metadata": {
    "colab_type": "text",
    "id": "crpPqKdC-KYx"
   },
   "source": [
    "The first step is to create an optimizer. It uses two items:\n",
    "* function to optimize\n",
    "* bounds of parameters\n",
    "\n",
    "The function is the procedure that counts metrics of our model quality. The important thing is that our optimization will maximize the value on function. Smaller metrics are best. Hint: don't forget to use negative metric values."
   ]
  },
  {
   "cell_type": "markdown",
   "metadata": {
    "colab_type": "text",
    "id": "e09ciF8gpTfr"
   },
   "source": [
    "Here we define our simple function we want to optimize."
   ]
  },
  {
   "cell_type": "code",
   "execution_count": 2,
   "metadata": {
    "colab": {},
    "colab_type": "code",
    "id": "ofwvnfEwo5mG"
   },
   "outputs": [],
   "source": [
    "def simple_func(a, b):\n",
    "    return a + b"
   ]
  },
  {
   "cell_type": "markdown",
   "metadata": {
    "colab_type": "text",
    "id": "XCGsdciCpeI3"
   },
   "source": [
    "Now, we define our bounds of the parameters to optimize, within the Bayesian optimizer."
   ]
  },
  {
   "cell_type": "code",
   "execution_count": 3,
   "metadata": {
    "colab": {},
    "colab_type": "code",
    "id": "4jLYW2qnpOFr"
   },
   "outputs": [],
   "source": [
    "optimizer = BayesianOptimization(\n",
    "    simple_func,\n",
    "    {'a': (1, 3),\n",
    "    'b': (4, 7)})"
   ]
  },
  {
   "cell_type": "markdown",
   "metadata": {
    "colab_type": "text",
    "id": "dg6LdYx8pq2T"
   },
   "source": [
    "These are the main parameters of this function:\n",
    "\n",
    "* **n_iter:** This is how many steps of Bayesian optimization you want to perform. The more steps, the more likely you are to find a good maximum.\n",
    "\n",
    "* **init_points:** This is how many steps of random exploration you want to perform. Random exploration can help by diversifying the exploration space."
   ]
  },
  {
   "cell_type": "markdown",
   "metadata": {
    "colab_type": "text",
    "id": "i-GKMJ1uqMYv"
   },
   "source": [
    "Let's run an example where we use the optimizer to find the best values to maximize the target value for a and b given the inputs of 3 and 2."
   ]
  },
  {
   "cell_type": "code",
   "execution_count": 4,
   "metadata": {
    "colab": {
     "base_uri": "https://localhost:8080/",
     "height": 153
    },
    "colab_type": "code",
    "id": "Oy44Ro7wqNat",
    "outputId": "9cc64d54-b1e6-46d1-dc29-4c0039a1c72d"
   },
   "outputs": [
    {
     "name": "stdout",
     "output_type": "stream",
     "text": [
      "|   iter    |  target   |     a     |     b     |\n",
      "-------------------------------------------------\n",
      "| \u001b[0m1        \u001b[0m | \u001b[0m6.443    \u001b[0m | \u001b[0m1.172    \u001b[0m | \u001b[0m5.271    \u001b[0m |\n",
      "| \u001b[95m2        \u001b[0m | \u001b[95m8.794    \u001b[0m | \u001b[95m1.858    \u001b[0m | \u001b[95m6.936    \u001b[0m |\n",
      "| \u001b[0m3        \u001b[0m | \u001b[0m6.61     \u001b[0m | \u001b[0m2.135    \u001b[0m | \u001b[0m4.475    \u001b[0m |\n",
      "| \u001b[95m4        \u001b[0m | \u001b[95m9.574    \u001b[0m | \u001b[95m2.574    \u001b[0m | \u001b[95m7.0      \u001b[0m |\n",
      "| \u001b[0m5        \u001b[0m | \u001b[0m9.24     \u001b[0m | \u001b[0m3.0      \u001b[0m | \u001b[0m6.24     \u001b[0m |\n",
      "=================================================\n"
     ]
    }
   ],
   "source": [
    "optimizer.maximize(3,2)"
   ]
  },
  {
   "cell_type": "markdown",
   "metadata": {
    "colab_type": "text",
    "id": "tyKFMF2Hq2Sx"
   },
   "source": [
    "Great, now let's print the best parameters and the associated maximized target."
   ]
  },
  {
   "cell_type": "code",
   "execution_count": 5,
   "metadata": {
    "colab": {
     "base_uri": "https://localhost:8080/",
     "height": 51
    },
    "colab_type": "code",
    "id": "_H6DixyfscV_",
    "outputId": "fd0c35d7-e30d-4d30-9ab2-12c0fa837971"
   },
   "outputs": [
    {
     "name": "stdout",
     "output_type": "stream",
     "text": [
      "{'a': 2.5742128684268004, 'b': 7.0}\n"
     ]
    },
    {
     "data": {
      "text/plain": [
       "9.5742128684268"
      ]
     },
     "execution_count": 5,
     "metadata": {},
     "output_type": "execute_result"
    }
   ],
   "source": [
    "print(optimizer.max['params']);optimizer.max['target']"
   ]
  },
  {
   "cell_type": "markdown",
   "metadata": {
    "colab_type": "text",
    "id": "tQ1T1V6Mspi4"
   },
   "source": [
    "## Test it on real data using the Light GBM"
   ]
  },
  {
   "cell_type": "markdown",
   "metadata": {
    "colab_type": "text",
    "id": "y_oGwREZkm4h"
   },
   "source": [
    "The dataset we will be working with is the famous flight departures dataset. Our modeling goal will be to predict if a flight departure is going to be delayed by 15 minutes based on the other attributes in our dataset. As part of this modeling exercise, we will use Bayesian hyperparameter optimization to identify the best parameters for our model."
   ]
  },
  {
   "cell_type": "markdown",
   "metadata": {
    "colab_type": "text",
    "id": "abYSagjQANDZ"
   },
   "source": [
    "**<font color='teal'> You can load the zipped csv files just as you would regular csv files using Pandas read_csv. In the next cell load the train and test data into two seperate dataframes. </font>**\n"
   ]
  },
  {
   "cell_type": "code",
   "execution_count": 6,
   "metadata": {
    "colab": {},
    "colab_type": "code",
    "id": "EWKBApVuAeJe"
   },
   "outputs": [],
   "source": [
    "train_df = pd.read_csv('flight_delays_train.csv.zip')\n",
    "test_df = pd.read_csv('flight_delays_test.csv.zip')"
   ]
  },
  {
   "cell_type": "markdown",
   "metadata": {
    "colab_type": "text",
    "id": "OapNcT9Eikis"
   },
   "source": [
    "**<font color='teal'> Print the top five rows of the train dataframe and review the columns in the data. </font>**"
   ]
  },
  {
   "cell_type": "code",
   "execution_count": 7,
   "metadata": {
    "colab": {
     "base_uri": "https://localhost:8080/",
     "height": 204
    },
    "colab_type": "code",
    "id": "__4cXZ8iiYaC",
    "outputId": "8718ad4b-8955-486c-9ae8-1dee6aa6c2fb"
   },
   "outputs": [
    {
     "data": {
      "text/html": [
       "<div>\n",
       "<style scoped>\n",
       "    .dataframe tbody tr th:only-of-type {\n",
       "        vertical-align: middle;\n",
       "    }\n",
       "\n",
       "    .dataframe tbody tr th {\n",
       "        vertical-align: top;\n",
       "    }\n",
       "\n",
       "    .dataframe thead th {\n",
       "        text-align: right;\n",
       "    }\n",
       "</style>\n",
       "<table border=\"1\" class=\"dataframe\">\n",
       "  <thead>\n",
       "    <tr style=\"text-align: right;\">\n",
       "      <th></th>\n",
       "      <th>Month</th>\n",
       "      <th>DayofMonth</th>\n",
       "      <th>DayOfWeek</th>\n",
       "      <th>DepTime</th>\n",
       "      <th>UniqueCarrier</th>\n",
       "      <th>Origin</th>\n",
       "      <th>Dest</th>\n",
       "      <th>Distance</th>\n",
       "      <th>dep_delayed_15min</th>\n",
       "    </tr>\n",
       "  </thead>\n",
       "  <tbody>\n",
       "    <tr>\n",
       "      <th>0</th>\n",
       "      <td>c-8</td>\n",
       "      <td>c-21</td>\n",
       "      <td>c-7</td>\n",
       "      <td>1934</td>\n",
       "      <td>AA</td>\n",
       "      <td>ATL</td>\n",
       "      <td>DFW</td>\n",
       "      <td>732</td>\n",
       "      <td>N</td>\n",
       "    </tr>\n",
       "    <tr>\n",
       "      <th>1</th>\n",
       "      <td>c-4</td>\n",
       "      <td>c-20</td>\n",
       "      <td>c-3</td>\n",
       "      <td>1548</td>\n",
       "      <td>US</td>\n",
       "      <td>PIT</td>\n",
       "      <td>MCO</td>\n",
       "      <td>834</td>\n",
       "      <td>N</td>\n",
       "    </tr>\n",
       "    <tr>\n",
       "      <th>2</th>\n",
       "      <td>c-9</td>\n",
       "      <td>c-2</td>\n",
       "      <td>c-5</td>\n",
       "      <td>1422</td>\n",
       "      <td>XE</td>\n",
       "      <td>RDU</td>\n",
       "      <td>CLE</td>\n",
       "      <td>416</td>\n",
       "      <td>N</td>\n",
       "    </tr>\n",
       "    <tr>\n",
       "      <th>3</th>\n",
       "      <td>c-11</td>\n",
       "      <td>c-25</td>\n",
       "      <td>c-6</td>\n",
       "      <td>1015</td>\n",
       "      <td>OO</td>\n",
       "      <td>DEN</td>\n",
       "      <td>MEM</td>\n",
       "      <td>872</td>\n",
       "      <td>N</td>\n",
       "    </tr>\n",
       "    <tr>\n",
       "      <th>4</th>\n",
       "      <td>c-10</td>\n",
       "      <td>c-7</td>\n",
       "      <td>c-6</td>\n",
       "      <td>1828</td>\n",
       "      <td>WN</td>\n",
       "      <td>MDW</td>\n",
       "      <td>OMA</td>\n",
       "      <td>423</td>\n",
       "      <td>Y</td>\n",
       "    </tr>\n",
       "  </tbody>\n",
       "</table>\n",
       "</div>"
      ],
      "text/plain": [
       "  Month DayofMonth DayOfWeek  DepTime UniqueCarrier Origin Dest  Distance  \\\n",
       "0   c-8       c-21       c-7     1934            AA    ATL  DFW       732   \n",
       "1   c-4       c-20       c-3     1548            US    PIT  MCO       834   \n",
       "2   c-9        c-2       c-5     1422            XE    RDU  CLE       416   \n",
       "3  c-11       c-25       c-6     1015            OO    DEN  MEM       872   \n",
       "4  c-10        c-7       c-6     1828            WN    MDW  OMA       423   \n",
       "\n",
       "  dep_delayed_15min  \n",
       "0                 N  \n",
       "1                 N  \n",
       "2                 N  \n",
       "3                 N  \n",
       "4                 Y  "
      ]
     },
     "execution_count": 7,
     "metadata": {},
     "output_type": "execute_result"
    }
   ],
   "source": [
    "train_df.head()"
   ]
  },
  {
   "cell_type": "markdown",
   "metadata": {
    "colab_type": "text",
    "id": "UxGBsPQhffgd"
   },
   "source": [
    "**<font color='teal'> Use the describe function to review the numeric columns in the train dataframe. </font>**"
   ]
  },
  {
   "cell_type": "code",
   "execution_count": 8,
   "metadata": {
    "colab": {
     "base_uri": "https://localhost:8080/",
     "height": 297
    },
    "colab_type": "code",
    "id": "_bRRKG3DAtae",
    "outputId": "7cfb9975-ec97-422c-abbd-98923a0b7aec"
   },
   "outputs": [
    {
     "data": {
      "text/html": [
       "<div>\n",
       "<style scoped>\n",
       "    .dataframe tbody tr th:only-of-type {\n",
       "        vertical-align: middle;\n",
       "    }\n",
       "\n",
       "    .dataframe tbody tr th {\n",
       "        vertical-align: top;\n",
       "    }\n",
       "\n",
       "    .dataframe thead th {\n",
       "        text-align: right;\n",
       "    }\n",
       "</style>\n",
       "<table border=\"1\" class=\"dataframe\">\n",
       "  <thead>\n",
       "    <tr style=\"text-align: right;\">\n",
       "      <th></th>\n",
       "      <th>DepTime</th>\n",
       "      <th>Distance</th>\n",
       "    </tr>\n",
       "  </thead>\n",
       "  <tbody>\n",
       "    <tr>\n",
       "      <th>count</th>\n",
       "      <td>100000.000000</td>\n",
       "      <td>100000.00000</td>\n",
       "    </tr>\n",
       "    <tr>\n",
       "      <th>mean</th>\n",
       "      <td>1341.523880</td>\n",
       "      <td>729.39716</td>\n",
       "    </tr>\n",
       "    <tr>\n",
       "      <th>std</th>\n",
       "      <td>476.378445</td>\n",
       "      <td>574.61686</td>\n",
       "    </tr>\n",
       "    <tr>\n",
       "      <th>min</th>\n",
       "      <td>1.000000</td>\n",
       "      <td>30.00000</td>\n",
       "    </tr>\n",
       "    <tr>\n",
       "      <th>25%</th>\n",
       "      <td>931.000000</td>\n",
       "      <td>317.00000</td>\n",
       "    </tr>\n",
       "    <tr>\n",
       "      <th>50%</th>\n",
       "      <td>1330.000000</td>\n",
       "      <td>575.00000</td>\n",
       "    </tr>\n",
       "    <tr>\n",
       "      <th>75%</th>\n",
       "      <td>1733.000000</td>\n",
       "      <td>957.00000</td>\n",
       "    </tr>\n",
       "    <tr>\n",
       "      <th>max</th>\n",
       "      <td>2534.000000</td>\n",
       "      <td>4962.00000</td>\n",
       "    </tr>\n",
       "  </tbody>\n",
       "</table>\n",
       "</div>"
      ],
      "text/plain": [
       "             DepTime      Distance\n",
       "count  100000.000000  100000.00000\n",
       "mean     1341.523880     729.39716\n",
       "std       476.378445     574.61686\n",
       "min         1.000000      30.00000\n",
       "25%       931.000000     317.00000\n",
       "50%      1330.000000     575.00000\n",
       "75%      1733.000000     957.00000\n",
       "max      2534.000000    4962.00000"
      ]
     },
     "execution_count": 8,
     "metadata": {},
     "output_type": "execute_result"
    }
   ],
   "source": [
    "train_df.describe()"
   ]
  },
  {
   "cell_type": "markdown",
   "metadata": {
    "colab_type": "text",
    "id": "i6k-_fI5Aiyh"
   },
   "source": [
    "Notice, `DepTime` is the departure time in a numeric representation in 2400 hours. "
   ]
  },
  {
   "cell_type": "markdown",
   "metadata": {
    "colab_type": "text",
    "id": "gtZS4-hrlQah"
   },
   "source": [
    " **<font color='teal'>The response variable is 'dep_delayed_15min' which is a categorical column, so we need to map the Y for yes and N for no values to 1 and 0. Run the code in the next cell to do this.</font>**"
   ]
  },
  {
   "cell_type": "code",
   "execution_count": 9,
   "metadata": {
    "ExecuteTime": {
     "end_time": "2019-04-22T15:38:42.677690Z",
     "start_time": "2019-04-22T15:38:42.481963Z"
    },
    "colab": {},
    "colab_type": "code",
    "id": "yRlOTbnW-KYc"
   },
   "outputs": [],
   "source": [
    "#train_df = train_df[train_df.DepTime <= 2400].copy()\n",
    "y_train = train_df['dep_delayed_15min'].map({'Y': 1, 'N': 0}).values"
   ]
  },
  {
   "cell_type": "markdown",
   "metadata": {
    "colab_type": "text",
    "id": "z3WPkFQO9uo9"
   },
   "source": [
    "## Feature Engineering\n",
    "Use these defined functions to create additional features for the model. Run the cell to add the functions to your workspace."
   ]
  },
  {
   "cell_type": "code",
   "execution_count": 10,
   "metadata": {
    "colab": {},
    "colab_type": "code",
    "id": "cXqsqz5W9t3r"
   },
   "outputs": [],
   "source": [
    "def label_enc(df_column):\n",
    "    df_column = LabelEncoder().fit_transform(df_column)\n",
    "    return df_column\n",
    "\n",
    "def make_harmonic_features_sin(value, period=2400):\n",
    "    value *= 2 * np.pi / period \n",
    "    return np.sin(value)\n",
    "\n",
    "def make_harmonic_features_cos(value, period=2400):\n",
    "    value *= 2 * np.pi / period \n",
    "    return np.cos(value)\n",
    "\n",
    "def feature_eng(df):\n",
    "    df['flight'] = df['Origin']+df['Dest']\n",
    "    df['Month'] = df.Month.map(lambda x: x.split('-')[-1]).astype('int32')\n",
    "    df['DayofMonth'] = df.DayofMonth.map(lambda x: x.split('-')[-1]).astype('uint8')\n",
    "    df['begin_of_month'] = (df['DayofMonth'] < 10).astype('uint8')\n",
    "    df['midddle_of_month'] = ((df['DayofMonth'] >= 10)&(df['DayofMonth'] < 20)).astype('uint8')\n",
    "    df['end_of_month'] = (df['DayofMonth'] >= 20).astype('uint8')\n",
    "    df['DayOfWeek'] = df.DayOfWeek.map(lambda x: x.split('-')[-1]).astype('uint8')\n",
    "    df['hour'] = df.DepTime.map(lambda x: x/100).astype('int32')\n",
    "    df['morning'] = df['hour'].map(lambda x: 1 if (x <= 11)& (x >= 7) else 0).astype('uint8')\n",
    "    df['day'] = df['hour'].map(lambda x: 1 if (x >= 12) & (x <= 18) else 0).astype('uint8')\n",
    "    df['evening'] = df['hour'].map(lambda x: 1 if (x >= 19) & (x <= 23) else 0).astype('uint8')\n",
    "    df['night'] = df['hour'].map(lambda x: 1 if (x >= 0) & (x <= 6) else 0).astype('int32')\n",
    "    df['winter'] = df['Month'].map(lambda x: x in [12, 1, 2]).astype('int32')\n",
    "    df['spring'] = df['Month'].map(lambda x: x in [3, 4, 5]).astype('int32')\n",
    "    df['summer'] = df['Month'].map(lambda x: x in [6, 7, 8]).astype('int32')\n",
    "    df['autumn'] = df['Month'].map(lambda x: x in [9, 10, 11]).astype('int32')\n",
    "    df['holiday'] = (df['DayOfWeek'] >= 5).astype(int) \n",
    "    df['weekday'] = (df['DayOfWeek'] < 5).astype(int)\n",
    "    df['airport_dest_per_month'] = df.groupby(['Dest', 'Month'])['Dest'].transform('count')\n",
    "    df['airport_origin_per_month'] = df.groupby(['Origin', 'Month'])['Origin'].transform('count')\n",
    "    df['airport_dest_count'] = df.groupby(['Dest'])['Dest'].transform('count')\n",
    "    df['airport_origin_count'] = df.groupby(['Origin'])['Origin'].transform('count')\n",
    "    df['carrier_count'] = df.groupby(['UniqueCarrier'])['Dest'].transform('count')\n",
    "    df['carrier_count_per month'] = df.groupby(['UniqueCarrier', 'Month'])['Dest'].transform('count')\n",
    "    df['deptime_cos'] = df['DepTime'].map(make_harmonic_features_cos)\n",
    "    df['deptime_sin'] = df['DepTime'].map(make_harmonic_features_sin)\n",
    "    df['flightUC'] = df['flight']+df['UniqueCarrier']\n",
    "    df['DestUC'] = df['Dest']+df['UniqueCarrier']\n",
    "    df['OriginUC'] = df['Origin']+df['UniqueCarrier']\n",
    "    return df.drop('DepTime', axis=1)"
   ]
  },
  {
   "cell_type": "markdown",
   "metadata": {
    "colab_type": "text",
    "id": "-BYbxXpU-FGE"
   },
   "source": [
    "Concatenate the training and testing dataframes.\n"
   ]
  },
  {
   "cell_type": "code",
   "execution_count": 11,
   "metadata": {
    "colab": {},
    "colab_type": "code",
    "id": "Cj6bfSNw_RAf"
   },
   "outputs": [],
   "source": [
    "full_df = pd.concat([train_df.drop('dep_delayed_15min', axis=1), test_df])\n",
    "full_df = feature_eng(full_df)"
   ]
  },
  {
   "cell_type": "markdown",
   "metadata": {
    "colab_type": "text",
    "id": "GSO8JbfM_W-F"
   },
   "source": [
    "Apply the earlier defined feature engineering functions to the full dataframe."
   ]
  },
  {
   "cell_type": "code",
   "execution_count": 12,
   "metadata": {
    "colab": {},
    "colab_type": "code",
    "id": "x6RfAINftjwi"
   },
   "outputs": [],
   "source": [
    "for column in ['UniqueCarrier', 'Origin', 'Dest','flight',  'flightUC', 'DestUC', 'OriginUC']:\n",
    "    full_df[column] = label_enc(full_df[column])"
   ]
  },
  {
   "cell_type": "markdown",
   "metadata": {
    "colab_type": "text",
    "id": "IJAw1RGB_ZuM"
   },
   "source": [
    "\n",
    "Split the new full dataframe into X_train and X_test. "
   ]
  },
  {
   "cell_type": "code",
   "execution_count": 13,
   "metadata": {
    "colab": {},
    "colab_type": "code",
    "id": "15cPtQU5tjfz"
   },
   "outputs": [],
   "source": [
    "X_train = full_df[:train_df.shape[0]]\n",
    "X_test = full_df[train_df.shape[0]:]"
   ]
  },
  {
   "cell_type": "markdown",
   "metadata": {
    "colab_type": "text",
    "id": "umfAw-9JErLV"
   },
   "source": [
    "Create a list of the categorical features."
   ]
  },
  {
   "cell_type": "code",
   "execution_count": 14,
   "metadata": {
    "ExecuteTime": {
     "end_time": "2019-04-22T14:31:58.412296Z",
     "start_time": "2019-04-22T14:31:58.409088Z"
    },
    "colab": {},
    "colab_type": "code",
    "id": "5ibeVyNb-KZI"
   },
   "outputs": [],
   "source": [
    "categorical_features = ['Month',  'DayOfWeek', 'UniqueCarrier', 'Origin', 'Dest','flight',  'flightUC', 'DestUC', 'OriginUC']"
   ]
  },
  {
   "cell_type": "markdown",
   "metadata": {
    "colab_type": "text",
    "id": "NzMIsMPIETVk"
   },
   "source": [
    "Let's build a light GBM model to test the bayesian optimizer."
   ]
  },
  {
   "cell_type": "markdown",
   "metadata": {
    "ExecuteTime": {
     "end_time": "2019-04-22T15:18:04.466965Z",
     "start_time": "2019-04-22T15:18:04.457992Z"
    },
    "colab_type": "text",
    "id": "2hfm1i5G-KZH"
   },
   "source": [
    "### [LightGBM](https://lightgbm.readthedocs.io/en/latest/) is a gradient boosting framework that uses tree-based learning algorithms. It is designed to be distributed and efficient with the following advantages:\n",
    "\n",
    "* Faster training speed and higher efficiency.\n",
    "* Lower memory usage.\n",
    "* Better accuracy.\n",
    "* Support of parallel and GPU learning.\n",
    "* Capable of handling large-scale data."
   ]
  },
  {
   "cell_type": "markdown",
   "metadata": {
    "colab_type": "text",
    "id": "jf-3F2Wg-KZL"
   },
   "source": [
    "First, we define the function we want to maximize and that will count cross-validation metrics of lightGBM for our parameters.\n",
    "\n",
    "Some params such as num_leaves, max_depth, min_child_samples, min_data_in_leaf should be integers."
   ]
  },
  {
   "cell_type": "code",
   "execution_count": 18,
   "metadata": {
    "ExecuteTime": {
     "end_time": "2019-04-22T15:40:14.034265Z",
     "start_time": "2019-04-22T15:40:14.027868Z"
    },
    "colab": {},
    "colab_type": "code",
    "id": "LyUJBhGX-KZM"
   },
   "outputs": [],
   "source": [
    "def lgb_eval(num_leaves, max_depth, lambda_l2, lambda_l1, min_child_samples, min_data_in_leaf):\n",
    "    params = {\n",
    "        \"objective\": \"binary\",\n",
    "        \"metric\": \"auc\",\n",
    "        \"is_unbalance\": True,\n",
    "        \"num_leaves\": int(num_leaves),\n",
    "        \"max_depth\": int(max_depth),\n",
    "        \"lambda_l2\": lambda_l2,\n",
    "        \"lambda_l1\": lambda_l1,\n",
    "        \"num_threads\": 20,\n",
    "        \"min_child_samples\": int(min_child_samples),\n",
    "        \"min_data_in_leaf\": int(min_data_in_leaf),\n",
    "        \"learning_rate\": 0.03,\n",
    "        \"subsample_freq\": 5,\n",
    "        \"bagging_seed\": 42,\n",
    "        \"verbosity\": -1\n",
    "    }\n",
    "    lgtrain = lgb.Dataset(X_train, y_train, categorical_feature=categorical_features)\n",
    "    cv_result = lgb.cv(params,\n",
    "                       lgtrain,\n",
    "                       num_boost_round=1000,\n",
    "                       early_stopping_rounds=100,\n",
    "                       stratified=True,\n",
    "                       nfold=3,\n",
    "                       verbose_eval=50)\n",
    "    return cv_result['auc-mean'][-1]"
   ]
  },
  {
   "cell_type": "markdown",
   "metadata": {
    "colab_type": "text",
    "id": "FJwqBhdeF11Q"
   },
   "source": [
    "Apply the Bayesian optimizer to the function we created in the previous step to identify the best hyperparameters. We will run 10 iterations and set init_points = 2.\n"
   ]
  },
  {
   "cell_type": "code",
   "execution_count": 19,
   "metadata": {
    "ExecuteTime": {
     "end_time": "2019-04-22T15:48:04.682447Z",
     "start_time": "2019-04-22T15:40:14.641634Z"
    },
    "colab": {
     "base_uri": "https://localhost:8080/",
     "height": 51
    },
    "colab_type": "code",
    "id": "JheCOkUE-KZP",
    "outputId": "8f37ee51-885d-44e4-cdcd-ceb7abd58b61"
   },
   "outputs": [
    {
     "name": "stdout",
     "output_type": "stream",
     "text": [
      "|   iter    |  target   | lambda_l1 | lambda_l2 | max_depth | min_ch... | min_da... | num_le... |\n",
      "-------------------------------------------------------------------------------------------------\n",
      "[LightGBM] [Warning] min_data_in_leaf is set=1250, min_child_samples=1596 will be ignored. Current value: min_data_in_leaf=1250\n",
      "[50]\tcv_agg's auc: 0.723205 + 0.00495578\n",
      "[100]\tcv_agg's auc: 0.727153 + 0.00432934\n",
      "[150]\tcv_agg's auc: 0.732371 + 0.00537618\n",
      "[200]\tcv_agg's auc: 0.735809 + 0.00516419\n",
      "[250]\tcv_agg's auc: 0.737966 + 0.00472505\n",
      "[300]\tcv_agg's auc: 0.739174 + 0.00450325\n",
      "[350]\tcv_agg's auc: 0.740226 + 0.00458568\n",
      "[400]\tcv_agg's auc: 0.740819 + 0.00459403\n",
      "[450]\tcv_agg's auc: 0.741415 + 0.00447796\n",
      "[500]\tcv_agg's auc: 0.741768 + 0.00422021\n",
      "[550]\tcv_agg's auc: 0.742058 + 0.00432065\n",
      "[600]\tcv_agg's auc: 0.742246 + 0.00433161\n",
      "[650]\tcv_agg's auc: 0.742268 + 0.00420181\n",
      "[700]\tcv_agg's auc: 0.742463 + 0.004092\n",
      "[750]\tcv_agg's auc: 0.742646 + 0.00396774\n",
      "[800]\tcv_agg's auc: 0.742714 + 0.00396788\n",
      "[850]\tcv_agg's auc: 0.742713 + 0.00392636\n",
      "[900]\tcv_agg's auc: 0.742715 + 0.00392215\n",
      "[950]\tcv_agg's auc: 0.742711 + 0.00400097\n",
      "| \u001b[0m1        \u001b[0m | \u001b[0m0.7428   \u001b[0m | \u001b[0m0.01337  \u001b[0m | \u001b[0m0.01258  \u001b[0m | \u001b[0m34.62    \u001b[0m | \u001b[0m1.596e+03\u001b[0m | \u001b[0m1.25e+03 \u001b[0m | \u001b[0m2.231e+03\u001b[0m |\n",
      "[50]\tcv_agg's auc: 0.719709 + 0.00356043\n",
      "[100]\tcv_agg's auc: 0.718145 + 0.00355112\n",
      "| \u001b[0m2        \u001b[0m | \u001b[0m0.72     \u001b[0m | \u001b[0m0.04566  \u001b[0m | \u001b[0m0.001576 \u001b[0m | \u001b[0m11.61    \u001b[0m | \u001b[0m1.696e+03\u001b[0m | \u001b[0m229.1    \u001b[0m | \u001b[0m757.4    \u001b[0m |\n",
      "[50]\tcv_agg's auc: 0.723201 + 0.00450231\n",
      "[100]\tcv_agg's auc: 0.72555 + 0.00421197\n",
      "[150]\tcv_agg's auc: 0.72639 + 0.00336117\n",
      "[200]\tcv_agg's auc: 0.726653 + 0.00352963\n",
      "[250]\tcv_agg's auc: 0.72658 + 0.00344786\n",
      "| \u001b[0m3        \u001b[0m | \u001b[0m0.7267   \u001b[0m | \u001b[0m0.03895  \u001b[0m | \u001b[0m0.0456   \u001b[0m | \u001b[0m34.41    \u001b[0m | \u001b[0m1.899e+03\u001b[0m | \u001b[0m793.3    \u001b[0m | \u001b[0m1.451e+03\u001b[0m |\n",
      "[50]\tcv_agg's auc: 0.723102 + 0.0056609\n",
      "[100]\tcv_agg's auc: 0.729792 + 0.00586412\n",
      "[150]\tcv_agg's auc: 0.7342 + 0.00590353\n",
      "[200]\tcv_agg's auc: 0.736925 + 0.00567542\n",
      "[250]\tcv_agg's auc: 0.738586 + 0.00552085\n",
      "[300]\tcv_agg's auc: 0.739731 + 0.00551187\n",
      "[350]\tcv_agg's auc: 0.740429 + 0.00545818\n",
      "[400]\tcv_agg's auc: 0.740941 + 0.00537854\n",
      "[450]\tcv_agg's auc: 0.741488 + 0.00522453\n",
      "[500]\tcv_agg's auc: 0.74189 + 0.00519542\n",
      "[550]\tcv_agg's auc: 0.742212 + 0.00521383\n",
      "[600]\tcv_agg's auc: 0.742296 + 0.00508918\n",
      "[650]\tcv_agg's auc: 0.74245 + 0.00492779\n",
      "[700]\tcv_agg's auc: 0.74276 + 0.00497269\n",
      "[750]\tcv_agg's auc: 0.742823 + 0.00497684\n",
      "[800]\tcv_agg's auc: 0.742999 + 0.00494813\n",
      "[850]\tcv_agg's auc: 0.743122 + 0.00494444\n",
      "[900]\tcv_agg's auc: 0.743211 + 0.00500945\n",
      "[950]\tcv_agg's auc: 0.743247 + 0.00499491\n",
      "[1000]\tcv_agg's auc: 0.743248 + 0.00486814\n",
      "| \u001b[95m4        \u001b[0m | \u001b[95m0.7433   \u001b[0m | \u001b[95m0.04065  \u001b[0m | \u001b[95m0.009609 \u001b[0m | \u001b[95m10.12    \u001b[0m | \u001b[95m8.168e+03\u001b[0m | \u001b[95m1.805e+03\u001b[0m | \u001b[95m2.453e+03\u001b[0m |\n",
      "[50]\tcv_agg's auc: 0.723491 + 0.00528877\n",
      "[100]\tcv_agg's auc: 0.73014 + 0.00522607\n",
      "[150]\tcv_agg's auc: 0.73456 + 0.00561503\n",
      "[200]\tcv_agg's auc: 0.737287 + 0.00527046\n",
      "[250]\tcv_agg's auc: 0.739181 + 0.00500589\n",
      "[300]\tcv_agg's auc: 0.740445 + 0.00475423\n",
      "[350]\tcv_agg's auc: 0.741035 + 0.00469011\n",
      "[400]\tcv_agg's auc: 0.741476 + 0.00457894\n",
      "[450]\tcv_agg's auc: 0.742125 + 0.00450117\n",
      "[500]\tcv_agg's auc: 0.742553 + 0.00448121\n",
      "[550]\tcv_agg's auc: 0.742908 + 0.00448576\n",
      "[600]\tcv_agg's auc: 0.743221 + 0.00439071\n",
      "[650]\tcv_agg's auc: 0.74345 + 0.00440017\n",
      "[700]\tcv_agg's auc: 0.74353 + 0.00447766\n",
      "[750]\tcv_agg's auc: 0.743576 + 0.00439576\n",
      "[800]\tcv_agg's auc: 0.743514 + 0.00438543\n",
      "| \u001b[95m5        \u001b[0m | \u001b[95m0.7436   \u001b[0m | \u001b[95m0.03964  \u001b[0m | \u001b[95m0.02294  \u001b[0m | \u001b[95m21.63    \u001b[0m | \u001b[95m1.35e+03 \u001b[0m | \u001b[95m1.815e+03\u001b[0m | \u001b[95m3.211e+03\u001b[0m |\n",
      "[50]\tcv_agg's auc: 0.723064 + 0.00513637\n",
      "[100]\tcv_agg's auc: 0.729526 + 0.00550925\n",
      "[150]\tcv_agg's auc: 0.734138 + 0.0054748\n",
      "[200]\tcv_agg's auc: 0.736761 + 0.00514349\n",
      "[250]\tcv_agg's auc: 0.738818 + 0.00503107\n",
      "[300]\tcv_agg's auc: 0.740023 + 0.00484738\n",
      "[350]\tcv_agg's auc: 0.740834 + 0.00491062\n",
      "[400]\tcv_agg's auc: 0.741331 + 0.00489718\n",
      "[450]\tcv_agg's auc: 0.741849 + 0.00487391\n",
      "[500]\tcv_agg's auc: 0.742254 + 0.00496748\n",
      "[550]\tcv_agg's auc: 0.742479 + 0.00494647\n",
      "[600]\tcv_agg's auc: 0.742749 + 0.00501768\n",
      "[650]\tcv_agg's auc: 0.742887 + 0.00495088\n",
      "[700]\tcv_agg's auc: 0.743118 + 0.00487151\n",
      "[750]\tcv_agg's auc: 0.743335 + 0.00482479\n",
      "[800]\tcv_agg's auc: 0.743479 + 0.00486358\n",
      "[850]\tcv_agg's auc: 0.743408 + 0.00472203\n",
      "| \u001b[0m6        \u001b[0m | \u001b[0m0.7435   \u001b[0m | \u001b[0m0.0009451\u001b[0m | \u001b[0m0.02857  \u001b[0m | \u001b[0m22.59    \u001b[0m | \u001b[0m1.46e+03 \u001b[0m | \u001b[0m1.855e+03\u001b[0m | \u001b[0m3.299e+03\u001b[0m |\n",
      "[50]\tcv_agg's auc: 0.717925 + 0.00371007\n",
      "[100]\tcv_agg's auc: 0.712078 + 0.0036792\n",
      "| \u001b[0m7        \u001b[0m | \u001b[0m0.7199   \u001b[0m | \u001b[0m0.03706  \u001b[0m | \u001b[0m0.02111  \u001b[0m | \u001b[0m46.96    \u001b[0m | \u001b[0m2.634e+03\u001b[0m | \u001b[0m302.7    \u001b[0m | \u001b[0m995.3    \u001b[0m |\n",
      "[50]\tcv_agg's auc: 0.723127 + 0.00550327\n",
      "[100]\tcv_agg's auc: 0.729889 + 0.00558369\n",
      "[150]\tcv_agg's auc: 0.734362 + 0.0057117\n",
      "[200]\tcv_agg's auc: 0.736939 + 0.00539449\n",
      "[250]\tcv_agg's auc: 0.738713 + 0.00524703\n",
      "[300]\tcv_agg's auc: 0.739882 + 0.00505083\n",
      "[350]\tcv_agg's auc: 0.740874 + 0.00506511\n",
      "[400]\tcv_agg's auc: 0.741511 + 0.00505894\n",
      "[450]\tcv_agg's auc: 0.742007 + 0.00501894\n",
      "[500]\tcv_agg's auc: 0.74251 + 0.00505447\n",
      "[550]\tcv_agg's auc: 0.742903 + 0.00501555\n",
      "[600]\tcv_agg's auc: 0.743161 + 0.00510096\n",
      "[650]\tcv_agg's auc: 0.74331 + 0.00498633\n",
      "[700]\tcv_agg's auc: 0.743347 + 0.00486804\n",
      "[750]\tcv_agg's auc: 0.743523 + 0.0049198\n",
      "[800]\tcv_agg's auc: 0.743551 + 0.00489711\n",
      "[850]\tcv_agg's auc: 0.743619 + 0.00487556\n",
      "[900]\tcv_agg's auc: 0.743629 + 0.00480831\n",
      "[950]\tcv_agg's auc: 0.7437 + 0.00463367\n",
      "[1000]\tcv_agg's auc: 0.743689 + 0.00467141\n",
      "| \u001b[95m8        \u001b[0m | \u001b[95m0.7437   \u001b[0m | \u001b[95m0.002873 \u001b[0m | \u001b[95m0.03237  \u001b[0m | \u001b[95m60.11    \u001b[0m | \u001b[95m6.235e+03\u001b[0m | \u001b[95m1.891e+03\u001b[0m | \u001b[95m3.932e+03\u001b[0m |\n",
      "[50]\tcv_agg's auc: 0.723156 + 0.00532126\n",
      "[100]\tcv_agg's auc: 0.729667 + 0.00515488\n",
      "[150]\tcv_agg's auc: 0.734507 + 0.0054566\n",
      "[200]\tcv_agg's auc: 0.737223 + 0.00509015\n",
      "[250]\tcv_agg's auc: 0.738995 + 0.00483641\n",
      "[300]\tcv_agg's auc: 0.740331 + 0.00454811\n",
      "[350]\tcv_agg's auc: 0.741083 + 0.00458493\n",
      "[400]\tcv_agg's auc: 0.741861 + 0.00459238\n",
      "[450]\tcv_agg's auc: 0.742302 + 0.00440436\n",
      "[500]\tcv_agg's auc: 0.742671 + 0.00437679\n",
      "[550]\tcv_agg's auc: 0.74287 + 0.00436792\n",
      "[600]\tcv_agg's auc: 0.743099 + 0.00436311\n",
      "[650]\tcv_agg's auc: 0.743269 + 0.00440347\n",
      "[700]\tcv_agg's auc: 0.743433 + 0.00422653\n",
      "[750]\tcv_agg's auc: 0.743561 + 0.0041209\n",
      "[800]\tcv_agg's auc: 0.74362 + 0.0041815\n",
      "[850]\tcv_agg's auc: 0.743709 + 0.0042712\n",
      "[900]\tcv_agg's auc: 0.743774 + 0.00438681\n",
      "[950]\tcv_agg's auc: 0.74373 + 0.0044183\n",
      "[1000]\tcv_agg's auc: 0.743764 + 0.00436202\n",
      "| \u001b[95m9        \u001b[0m | \u001b[95m0.7438   \u001b[0m | \u001b[95m0.04146  \u001b[0m | \u001b[95m0.02014  \u001b[0m | \u001b[95m35.9     \u001b[0m | \u001b[95m1.329e+03\u001b[0m | \u001b[95m1.737e+03\u001b[0m | \u001b[95m3.244e+03\u001b[0m |\n",
      "[50]\tcv_agg's auc: 0.723049 + 0.00539199\n",
      "[100]\tcv_agg's auc: 0.729663 + 0.00539705\n",
      "[150]\tcv_agg's auc: 0.733973 + 0.00575348\n",
      "[200]\tcv_agg's auc: 0.736585 + 0.00550067\n",
      "[250]\tcv_agg's auc: 0.738518 + 0.00520014\n",
      "[300]\tcv_agg's auc: 0.739806 + 0.00491756\n",
      "[350]\tcv_agg's auc: 0.740635 + 0.0046649\n",
      "[400]\tcv_agg's auc: 0.741052 + 0.00472771\n",
      "[450]\tcv_agg's auc: 0.741599 + 0.00472299\n",
      "[500]\tcv_agg's auc: 0.742071 + 0.0046847\n",
      "[550]\tcv_agg's auc: 0.742366 + 0.00487474\n",
      "[600]\tcv_agg's auc: 0.742628 + 0.00484872\n",
      "[650]\tcv_agg's auc: 0.742865 + 0.00495228\n",
      "[700]\tcv_agg's auc: 0.742961 + 0.0049827\n",
      "[750]\tcv_agg's auc: 0.743061 + 0.00497191\n",
      "[800]\tcv_agg's auc: 0.743132 + 0.00485554\n",
      "[850]\tcv_agg's auc: 0.743235 + 0.00476492\n",
      "[900]\tcv_agg's auc: 0.74334 + 0.004815\n",
      "[950]\tcv_agg's auc: 0.743263 + 0.00479026\n",
      "| \u001b[0m10       \u001b[0m | \u001b[0m0.7433   \u001b[0m | \u001b[0m0.04272  \u001b[0m | \u001b[0m0.01552  \u001b[0m | \u001b[0m52.62    \u001b[0m | \u001b[0m1.447e+03\u001b[0m | \u001b[0m1.881e+03\u001b[0m | \u001b[0m3.247e+03\u001b[0m |\n",
      "[50]\tcv_agg's auc: 0.72038 + 0.00365429\n",
      "[100]\tcv_agg's auc: 0.718482 + 0.00395203\n",
      "| \u001b[0m11       \u001b[0m | \u001b[0m0.7206   \u001b[0m | \u001b[0m0.02429  \u001b[0m | \u001b[0m0.03239  \u001b[0m | \u001b[0m12.21    \u001b[0m | \u001b[0m8.745e+03\u001b[0m | \u001b[0m164.4    \u001b[0m | \u001b[0m3.988e+03\u001b[0m |\n",
      "[50]\tcv_agg's auc: 0.722708 + 0.00553249\n",
      "[100]\tcv_agg's auc: 0.72944 + 0.00531003\n",
      "[150]\tcv_agg's auc: 0.733857 + 0.00559266\n",
      "[200]\tcv_agg's auc: 0.736149 + 0.00540464\n"
     ]
    },
    {
     "name": "stdout",
     "output_type": "stream",
     "text": [
      "[250]\tcv_agg's auc: 0.737789 + 0.00524848\n",
      "[300]\tcv_agg's auc: 0.738953 + 0.00480644\n",
      "[350]\tcv_agg's auc: 0.739686 + 0.00464761\n",
      "[400]\tcv_agg's auc: 0.740388 + 0.00451059\n",
      "[450]\tcv_agg's auc: 0.740977 + 0.00446927\n",
      "[500]\tcv_agg's auc: 0.741457 + 0.00441072\n",
      "[550]\tcv_agg's auc: 0.741788 + 0.00442827\n",
      "[600]\tcv_agg's auc: 0.74208 + 0.00452269\n",
      "[650]\tcv_agg's auc: 0.742461 + 0.00464311\n",
      "[700]\tcv_agg's auc: 0.74259 + 0.00470392\n",
      "[750]\tcv_agg's auc: 0.742756 + 0.00469506\n",
      "[800]\tcv_agg's auc: 0.742827 + 0.00462013\n",
      "[850]\tcv_agg's auc: 0.74307 + 0.00457516\n",
      "[900]\tcv_agg's auc: 0.743193 + 0.00453903\n",
      "[950]\tcv_agg's auc: 0.743247 + 0.00460232\n",
      "[1000]\tcv_agg's auc: 0.743296 + 0.0045482\n",
      "| \u001b[0m12       \u001b[0m | \u001b[0m0.7433   \u001b[0m | \u001b[0m0.008446 \u001b[0m | \u001b[0m0.01944  \u001b[0m | \u001b[0m7.224    \u001b[0m | \u001b[0m6.414e+03\u001b[0m | \u001b[0m1.946e+03\u001b[0m | \u001b[0m1.322e+03\u001b[0m |\n",
      "=================================================================================================\n"
     ]
    }
   ],
   "source": [
    "lgbBO = BayesianOptimization(lgb_eval, {'num_leaves': (25, 4000),\n",
    "                                                'max_depth': (5, 63),\n",
    "                                                'lambda_l2': (0.0, 0.05),\n",
    "                                                'lambda_l1': (0.0, 0.05),\n",
    "                                                'min_child_samples': (50, 10000),\n",
    "                                                'min_data_in_leaf': (100, 2000)\n",
    "                                                })\n",
    "\n",
    "lgbBO.maximize(n_iter=10, init_points=2)"
   ]
  },
  {
   "cell_type": "markdown",
   "metadata": {
    "colab_type": "text",
    "id": "rdkxhhST-KZS"
   },
   "source": [
    " **<font color='teal'> Print the best result by using the '.max' function.</font>**"
   ]
  },
  {
   "cell_type": "code",
   "execution_count": 20,
   "metadata": {
    "ExecuteTime": {
     "end_time": "2019-04-22T15:49:01.513767Z",
     "start_time": "2019-04-22T15:49:01.509392Z"
    },
    "colab": {},
    "colab_type": "code",
    "id": "oc8z6mfy-KZS"
   },
   "outputs": [
    {
     "data": {
      "text/plain": [
       "{'target': 0.7438058041583223,\n",
       " 'params': {'lambda_l1': 0.041462438954106534,\n",
       "  'lambda_l2': 0.020140286886313787,\n",
       "  'max_depth': 35.90318645300125,\n",
       "  'min_child_samples': 1329.4009537281224,\n",
       "  'min_data_in_leaf': 1737.2462377157722,\n",
       "  'num_leaves': 3244.285235130971}}"
      ]
     },
     "execution_count": 20,
     "metadata": {},
     "output_type": "execute_result"
    }
   ],
   "source": [
    "lgbBO.max"
   ]
  },
  {
   "cell_type": "markdown",
   "metadata": {
    "ExecuteTime": {
     "end_time": "2019-04-22T15:50:29.049881Z",
     "start_time": "2019-04-22T15:50:29.045908Z"
    },
    "colab_type": "text",
    "id": "J5LAydKC-KZW"
   },
   "source": [
    "Review the process at each step by using the '.res[0]' function."
   ]
  },
  {
   "cell_type": "code",
   "execution_count": 21,
   "metadata": {
    "ExecuteTime": {
     "end_time": "2019-04-22T15:51:01.001688Z",
     "start_time": "2019-04-22T15:51:00.997484Z"
    },
    "colab": {},
    "colab_type": "code",
    "id": "X1ttZmrI-KZX"
   },
   "outputs": [
    {
     "data": {
      "text/plain": [
       "{'target': 0.7427866482772948,\n",
       " 'params': {'lambda_l1': 0.01336556371042088,\n",
       "  'lambda_l2': 0.012580604593696488,\n",
       "  'max_depth': 34.62026506786355,\n",
       "  'min_child_samples': 1596.0595392840191,\n",
       "  'min_data_in_leaf': 1250.3107021012959,\n",
       "  'num_leaves': 2231.406955582866}}"
      ]
     },
     "execution_count": 21,
     "metadata": {},
     "output_type": "execute_result"
    }
   ],
   "source": [
    "lgbBO.res[0]"
   ]
  }
 ],
 "metadata": {
  "colab": {
   "name": "Bayesian_optimization_exercise.ipynb",
   "provenance": []
  },
  "deepnote_execution_queue": [],
  "kernelspec": {
   "display_name": "Python 3 (ipykernel)",
   "language": "python",
   "name": "python3"
  },
  "language_info": {
   "codemirror_mode": {
    "name": "ipython",
    "version": 3
   },
   "file_extension": ".py",
   "mimetype": "text/x-python",
   "name": "python",
   "nbconvert_exporter": "python",
   "pygments_lexer": "ipython3",
   "version": "3.9.13"
  },
  "varInspector": {
   "cols": {
    "lenName": 16,
    "lenType": 16,
    "lenVar": 40
   },
   "kernels_config": {
    "python": {
     "delete_cmd_postfix": "",
     "delete_cmd_prefix": "del ",
     "library": "var_list.py",
     "varRefreshCmd": "print(var_dic_list())"
    },
    "r": {
     "delete_cmd_postfix": ") ",
     "delete_cmd_prefix": "rm(",
     "library": "var_list.r",
     "varRefreshCmd": "cat(var_dic_list()) "
    }
   },
   "types_to_exclude": [
    "module",
    "function",
    "builtin_function_or_method",
    "instance",
    "_Feature"
   ],
   "window_display": false
  }
 },
 "nbformat": 4,
 "nbformat_minor": 1
}
