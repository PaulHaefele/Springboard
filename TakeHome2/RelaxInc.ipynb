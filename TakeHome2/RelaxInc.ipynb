{
 "cells": [
  {
   "cell_type": "markdown",
   "id": "6953da6c",
   "metadata": {},
   "source": [
    "# Relax Inc. Take Home Practice"
   ]
  },
  {
   "cell_type": "code",
   "execution_count": 1,
   "id": "33105132",
   "metadata": {},
   "outputs": [],
   "source": [
    "import pandas as pd\n",
    "import numpy as np\n",
    "import matplotlib.pyplot as plt\n",
    "import seaborn as sns\n",
    "from datetime import datetime\n",
    "\n",
    "from sklearn.model_selection import train_test_split\n",
    "from sklearn.ensemble import RandomForestClassifier\n",
    "from sklearn.metrics import accuracy_score, classification_report, confusion_matrix\n",
    "from sklearn.model_selection import GridSearchCV\n",
    "import xgboost as xgb\n",
    "from sklearn.linear_model import LogisticRegression\n",
    "from imblearn.over_sampling import SMOTE"
   ]
  },
  {
   "cell_type": "markdown",
   "id": "bfc70fe7",
   "metadata": {},
   "source": [
    "# Introduction\n",
    "\n",
    "# Predicting User Adoption in an Online Platform\n",
    "\n",
    "The goal of this project is to identify factors that predict future user adoption in an online platform. We have two main datasets:\n",
    "\n",
    "1. **User Data**: This dataset contains information about 12,000 users who signed up for the product. It includes user details such as name, email, account creation source, creation time, last session creation time, and more.\n",
    "\n",
    "2. **User Engagement Data**: This dataset contains a summary of user activity, including login dates.\n",
    "\n",
    "To define an \"adopted user,\" we consider a user who has logged into the product on three separate days within at least one seven-day period. The task is to identify which factors predict whether a user will become an adopted user.\n",
    "\n",
    "In this analysis, we will perform data cleaning, exploratory data analysis, and build predictive models to understand the key indicators of user adoption. The insights gained will help the platform improve long-term user retention.\n",
    "\n",
    "Let's start by loading the data and conducting initial data exploration.\n"
   ]
  },
  {
   "cell_type": "code",
   "execution_count": 2,
   "id": "d362a89e",
   "metadata": {},
   "outputs": [],
   "source": [
    "# Load 'takehome_users.csv' into a DataFrame\n",
    "users = pd.read_csv('takehome_users.csv', encoding='latin-1')\n",
    "\n",
    "# Load 'takehome_user_engagement.csv' into a DataFrame\n",
    "user_engagement = pd.read_csv('takehome_user_engagement.csv')"
   ]
  },
  {
   "cell_type": "code",
   "execution_count": 3,
   "id": "2a58ef59",
   "metadata": {},
   "outputs": [
    {
     "data": {
      "text/html": [
       "<div>\n",
       "<style scoped>\n",
       "    .dataframe tbody tr th:only-of-type {\n",
       "        vertical-align: middle;\n",
       "    }\n",
       "\n",
       "    .dataframe tbody tr th {\n",
       "        vertical-align: top;\n",
       "    }\n",
       "\n",
       "    .dataframe thead th {\n",
       "        text-align: right;\n",
       "    }\n",
       "</style>\n",
       "<table border=\"1\" class=\"dataframe\">\n",
       "  <thead>\n",
       "    <tr style=\"text-align: right;\">\n",
       "      <th></th>\n",
       "      <th>object_id</th>\n",
       "      <th>creation_time</th>\n",
       "      <th>name</th>\n",
       "      <th>email</th>\n",
       "      <th>creation_source</th>\n",
       "      <th>last_session_creation_time</th>\n",
       "      <th>opted_in_to_mailing_list</th>\n",
       "      <th>enabled_for_marketing_drip</th>\n",
       "      <th>org_id</th>\n",
       "      <th>invited_by_user_id</th>\n",
       "    </tr>\n",
       "  </thead>\n",
       "  <tbody>\n",
       "    <tr>\n",
       "      <th>0</th>\n",
       "      <td>1</td>\n",
       "      <td>2014-04-22 03:53:30</td>\n",
       "      <td>Clausen August</td>\n",
       "      <td>AugustCClausen@yahoo.com</td>\n",
       "      <td>GUEST_INVITE</td>\n",
       "      <td>1.398139e+09</td>\n",
       "      <td>1</td>\n",
       "      <td>0</td>\n",
       "      <td>11</td>\n",
       "      <td>10803.0</td>\n",
       "    </tr>\n",
       "    <tr>\n",
       "      <th>1</th>\n",
       "      <td>2</td>\n",
       "      <td>2013-11-15 03:45:04</td>\n",
       "      <td>Poole Matthew</td>\n",
       "      <td>MatthewPoole@gustr.com</td>\n",
       "      <td>ORG_INVITE</td>\n",
       "      <td>1.396238e+09</td>\n",
       "      <td>0</td>\n",
       "      <td>0</td>\n",
       "      <td>1</td>\n",
       "      <td>316.0</td>\n",
       "    </tr>\n",
       "    <tr>\n",
       "      <th>2</th>\n",
       "      <td>3</td>\n",
       "      <td>2013-03-19 23:14:52</td>\n",
       "      <td>Bottrill Mitchell</td>\n",
       "      <td>MitchellBottrill@gustr.com</td>\n",
       "      <td>ORG_INVITE</td>\n",
       "      <td>1.363735e+09</td>\n",
       "      <td>0</td>\n",
       "      <td>0</td>\n",
       "      <td>94</td>\n",
       "      <td>1525.0</td>\n",
       "    </tr>\n",
       "    <tr>\n",
       "      <th>3</th>\n",
       "      <td>4</td>\n",
       "      <td>2013-05-21 08:09:28</td>\n",
       "      <td>Clausen Nicklas</td>\n",
       "      <td>NicklasSClausen@yahoo.com</td>\n",
       "      <td>GUEST_INVITE</td>\n",
       "      <td>1.369210e+09</td>\n",
       "      <td>0</td>\n",
       "      <td>0</td>\n",
       "      <td>1</td>\n",
       "      <td>5151.0</td>\n",
       "    </tr>\n",
       "    <tr>\n",
       "      <th>4</th>\n",
       "      <td>5</td>\n",
       "      <td>2013-01-17 10:14:20</td>\n",
       "      <td>Raw Grace</td>\n",
       "      <td>GraceRaw@yahoo.com</td>\n",
       "      <td>GUEST_INVITE</td>\n",
       "      <td>1.358850e+09</td>\n",
       "      <td>0</td>\n",
       "      <td>0</td>\n",
       "      <td>193</td>\n",
       "      <td>5240.0</td>\n",
       "    </tr>\n",
       "  </tbody>\n",
       "</table>\n",
       "</div>"
      ],
      "text/plain": [
       "   object_id        creation_time               name  \\\n",
       "0          1  2014-04-22 03:53:30     Clausen August   \n",
       "1          2  2013-11-15 03:45:04      Poole Matthew   \n",
       "2          3  2013-03-19 23:14:52  Bottrill Mitchell   \n",
       "3          4  2013-05-21 08:09:28    Clausen Nicklas   \n",
       "4          5  2013-01-17 10:14:20          Raw Grace   \n",
       "\n",
       "                        email creation_source  last_session_creation_time  \\\n",
       "0    AugustCClausen@yahoo.com    GUEST_INVITE                1.398139e+09   \n",
       "1      MatthewPoole@gustr.com      ORG_INVITE                1.396238e+09   \n",
       "2  MitchellBottrill@gustr.com      ORG_INVITE                1.363735e+09   \n",
       "3   NicklasSClausen@yahoo.com    GUEST_INVITE                1.369210e+09   \n",
       "4          GraceRaw@yahoo.com    GUEST_INVITE                1.358850e+09   \n",
       "\n",
       "   opted_in_to_mailing_list  enabled_for_marketing_drip  org_id  \\\n",
       "0                         1                           0      11   \n",
       "1                         0                           0       1   \n",
       "2                         0                           0      94   \n",
       "3                         0                           0       1   \n",
       "4                         0                           0     193   \n",
       "\n",
       "   invited_by_user_id  \n",
       "0             10803.0  \n",
       "1               316.0  \n",
       "2              1525.0  \n",
       "3              5151.0  \n",
       "4              5240.0  "
      ]
     },
     "execution_count": 3,
     "metadata": {},
     "output_type": "execute_result"
    }
   ],
   "source": [
    "users.head()"
   ]
  },
  {
   "cell_type": "code",
   "execution_count": 4,
   "id": "b9d55c72",
   "metadata": {},
   "outputs": [],
   "source": [
    "#Rename object id as user id for easier processing\n",
    "users.rename(columns={'object_id': 'user_id'}, inplace=True)"
   ]
  },
  {
   "cell_type": "code",
   "execution_count": 5,
   "id": "b5462da5",
   "metadata": {
    "scrolled": false
   },
   "outputs": [
    {
     "name": "stdout",
     "output_type": "stream",
     "text": [
      "user_id                          0\n",
      "creation_time                    0\n",
      "name                             0\n",
      "email                            0\n",
      "creation_source                  0\n",
      "last_session_creation_time    3177\n",
      "opted_in_to_mailing_list         0\n",
      "enabled_for_marketing_drip       0\n",
      "org_id                           0\n",
      "invited_by_user_id            5583\n",
      "dtype: int64\n"
     ]
    }
   ],
   "source": [
    "#Count nulls in each column of users\n",
    "null_counts = users.isnull().sum()\n",
    "print(null_counts)"
   ]
  },
  {
   "cell_type": "code",
   "execution_count": 6,
   "id": "5d3f2be9",
   "metadata": {},
   "outputs": [
    {
     "data": {
      "text/plain": [
       "12000"
      ]
     },
     "execution_count": 6,
     "metadata": {},
     "output_type": "execute_result"
    }
   ],
   "source": [
    "unique_users = users['user_id'].nunique()\n",
    "unique_users"
   ]
  },
  {
   "cell_type": "code",
   "execution_count": 7,
   "id": "7fca4c3c",
   "metadata": {},
   "outputs": [],
   "source": [
    "# Drop the email& name columns. User Id will be the unique identifier between users\n",
    "users.drop(columns=['email', 'name'], inplace=True)\n",
    "\n",
    "# Set 'user_id' as the index\n",
    "users.set_index('user_id', inplace=True)"
   ]
  },
  {
   "cell_type": "code",
   "execution_count": 8,
   "id": "810415b2",
   "metadata": {},
   "outputs": [],
   "source": [
    "#Convert creation_time column to datetime type\n",
    "users['creation_time'] = pd.to_datetime(users['creation_time'])\n",
    "\n",
    "users['last_session_creation_time'] = pd.to_datetime(users['last_session_creation_time'], unit='s')"
   ]
  },
  {
   "cell_type": "markdown",
   "id": "84943252",
   "metadata": {},
   "source": [
    "## Dealing with Null Values\n",
    "\n",
    "In the dataset, there were null values in the \"invited_by_user_id\" column. We decided to create a new binary column named \"invited_by_user\" to indicate whether a user was referred by another user. Users with a non-null \"invited_by_user_id\" were assigned the value 1, indicating that they were referred by another user, while users with null values in \"invited_by_user_id\" were assigned the value 0, indicating that they were not referred by anyone. This approach allowed us to retain the information about whether a user was referred without needing to identify the specific user who referred them.\n",
    "\n",
    "By doing so, we handled the null values in a way that aligns with the binary nature of the information we were interested in, which is whether or not a user was referred. This approach simplifies the dataset while preserving the relevant information.\n"
   ]
  },
  {
   "cell_type": "code",
   "execution_count": 9,
   "id": "cf897b1c",
   "metadata": {},
   "outputs": [],
   "source": [
    "# Create a new column \"invited_by_user\" with 1 for non-null values and 0 for null values\n",
    "users['invited_by_user'] = users['invited_by_user_id'].notna().astype(int)\n",
    "\n",
    "# Now, drop the original column\n",
    "users.drop('invited_by_user_id', axis=1, inplace=True)"
   ]
  },
  {
   "cell_type": "code",
   "execution_count": 10,
   "id": "065410a6",
   "metadata": {
    "scrolled": true
   },
   "outputs": [
    {
     "data": {
      "text/html": [
       "<div>\n",
       "<style scoped>\n",
       "    .dataframe tbody tr th:only-of-type {\n",
       "        vertical-align: middle;\n",
       "    }\n",
       "\n",
       "    .dataframe tbody tr th {\n",
       "        vertical-align: top;\n",
       "    }\n",
       "\n",
       "    .dataframe thead th {\n",
       "        text-align: right;\n",
       "    }\n",
       "</style>\n",
       "<table border=\"1\" class=\"dataframe\">\n",
       "  <thead>\n",
       "    <tr style=\"text-align: right;\">\n",
       "      <th></th>\n",
       "      <th>creation_time</th>\n",
       "      <th>creation_source</th>\n",
       "      <th>last_session_creation_time</th>\n",
       "      <th>opted_in_to_mailing_list</th>\n",
       "      <th>enabled_for_marketing_drip</th>\n",
       "      <th>org_id</th>\n",
       "      <th>invited_by_user</th>\n",
       "    </tr>\n",
       "    <tr>\n",
       "      <th>user_id</th>\n",
       "      <th></th>\n",
       "      <th></th>\n",
       "      <th></th>\n",
       "      <th></th>\n",
       "      <th></th>\n",
       "      <th></th>\n",
       "      <th></th>\n",
       "    </tr>\n",
       "  </thead>\n",
       "  <tbody>\n",
       "    <tr>\n",
       "      <th>1</th>\n",
       "      <td>2014-04-22 03:53:30</td>\n",
       "      <td>GUEST_INVITE</td>\n",
       "      <td>2014-04-22 03:53:30</td>\n",
       "      <td>1</td>\n",
       "      <td>0</td>\n",
       "      <td>11</td>\n",
       "      <td>1</td>\n",
       "    </tr>\n",
       "    <tr>\n",
       "      <th>2</th>\n",
       "      <td>2013-11-15 03:45:04</td>\n",
       "      <td>ORG_INVITE</td>\n",
       "      <td>2014-03-31 03:45:04</td>\n",
       "      <td>0</td>\n",
       "      <td>0</td>\n",
       "      <td>1</td>\n",
       "      <td>1</td>\n",
       "    </tr>\n",
       "    <tr>\n",
       "      <th>3</th>\n",
       "      <td>2013-03-19 23:14:52</td>\n",
       "      <td>ORG_INVITE</td>\n",
       "      <td>2013-03-19 23:14:52</td>\n",
       "      <td>0</td>\n",
       "      <td>0</td>\n",
       "      <td>94</td>\n",
       "      <td>1</td>\n",
       "    </tr>\n",
       "    <tr>\n",
       "      <th>4</th>\n",
       "      <td>2013-05-21 08:09:28</td>\n",
       "      <td>GUEST_INVITE</td>\n",
       "      <td>2013-05-22 08:09:28</td>\n",
       "      <td>0</td>\n",
       "      <td>0</td>\n",
       "      <td>1</td>\n",
       "      <td>1</td>\n",
       "    </tr>\n",
       "    <tr>\n",
       "      <th>5</th>\n",
       "      <td>2013-01-17 10:14:20</td>\n",
       "      <td>GUEST_INVITE</td>\n",
       "      <td>2013-01-22 10:14:20</td>\n",
       "      <td>0</td>\n",
       "      <td>0</td>\n",
       "      <td>193</td>\n",
       "      <td>1</td>\n",
       "    </tr>\n",
       "  </tbody>\n",
       "</table>\n",
       "</div>"
      ],
      "text/plain": [
       "              creation_time creation_source last_session_creation_time  \\\n",
       "user_id                                                                  \n",
       "1       2014-04-22 03:53:30    GUEST_INVITE        2014-04-22 03:53:30   \n",
       "2       2013-11-15 03:45:04      ORG_INVITE        2014-03-31 03:45:04   \n",
       "3       2013-03-19 23:14:52      ORG_INVITE        2013-03-19 23:14:52   \n",
       "4       2013-05-21 08:09:28    GUEST_INVITE        2013-05-22 08:09:28   \n",
       "5       2013-01-17 10:14:20    GUEST_INVITE        2013-01-22 10:14:20   \n",
       "\n",
       "         opted_in_to_mailing_list  enabled_for_marketing_drip  org_id  \\\n",
       "user_id                                                                 \n",
       "1                               1                           0      11   \n",
       "2                               0                           0       1   \n",
       "3                               0                           0      94   \n",
       "4                               0                           0       1   \n",
       "5                               0                           0     193   \n",
       "\n",
       "         invited_by_user  \n",
       "user_id                   \n",
       "1                      1  \n",
       "2                      1  \n",
       "3                      1  \n",
       "4                      1  \n",
       "5                      1  "
      ]
     },
     "execution_count": 10,
     "metadata": {},
     "output_type": "execute_result"
    }
   ],
   "source": [
    "users.head()"
   ]
  },
  {
   "cell_type": "code",
   "execution_count": 11,
   "id": "e83cac23",
   "metadata": {
    "scrolled": false
   },
   "outputs": [
    {
     "data": {
      "text/html": [
       "<div>\n",
       "<style scoped>\n",
       "    .dataframe tbody tr th:only-of-type {\n",
       "        vertical-align: middle;\n",
       "    }\n",
       "\n",
       "    .dataframe tbody tr th {\n",
       "        vertical-align: top;\n",
       "    }\n",
       "\n",
       "    .dataframe thead th {\n",
       "        text-align: right;\n",
       "    }\n",
       "</style>\n",
       "<table border=\"1\" class=\"dataframe\">\n",
       "  <thead>\n",
       "    <tr style=\"text-align: right;\">\n",
       "      <th></th>\n",
       "      <th>time_stamp</th>\n",
       "      <th>user_id</th>\n",
       "      <th>visited</th>\n",
       "    </tr>\n",
       "  </thead>\n",
       "  <tbody>\n",
       "    <tr>\n",
       "      <th>0</th>\n",
       "      <td>2014-04-22 03:53:30</td>\n",
       "      <td>1</td>\n",
       "      <td>1</td>\n",
       "    </tr>\n",
       "    <tr>\n",
       "      <th>1</th>\n",
       "      <td>2013-11-15 03:45:04</td>\n",
       "      <td>2</td>\n",
       "      <td>1</td>\n",
       "    </tr>\n",
       "    <tr>\n",
       "      <th>2</th>\n",
       "      <td>2013-11-29 03:45:04</td>\n",
       "      <td>2</td>\n",
       "      <td>1</td>\n",
       "    </tr>\n",
       "    <tr>\n",
       "      <th>3</th>\n",
       "      <td>2013-12-09 03:45:04</td>\n",
       "      <td>2</td>\n",
       "      <td>1</td>\n",
       "    </tr>\n",
       "    <tr>\n",
       "      <th>4</th>\n",
       "      <td>2013-12-25 03:45:04</td>\n",
       "      <td>2</td>\n",
       "      <td>1</td>\n",
       "    </tr>\n",
       "  </tbody>\n",
       "</table>\n",
       "</div>"
      ],
      "text/plain": [
       "            time_stamp  user_id  visited\n",
       "0  2014-04-22 03:53:30        1        1\n",
       "1  2013-11-15 03:45:04        2        1\n",
       "2  2013-11-29 03:45:04        2        1\n",
       "3  2013-12-09 03:45:04        2        1\n",
       "4  2013-12-25 03:45:04        2        1"
      ]
     },
     "execution_count": 11,
     "metadata": {},
     "output_type": "execute_result"
    }
   ],
   "source": [
    "user_engagement.head()"
   ]
  },
  {
   "cell_type": "code",
   "execution_count": 12,
   "id": "a1a30834",
   "metadata": {},
   "outputs": [
    {
     "data": {
      "text/plain": [
       "8823"
      ]
     },
     "execution_count": 12,
     "metadata": {},
     "output_type": "execute_result"
    }
   ],
   "source": [
    "unique_users = user_engagement['user_id'].nunique()\n",
    "unique_users"
   ]
  },
  {
   "cell_type": "markdown",
   "id": "fb4045fc",
   "metadata": {},
   "source": [
    "In our analysis, we've addressed null values in the dataset. For the \"invited_by_user_id\" column, we created a new binary column, \"invited_by_user,\" to indicate whether users were invited by another user. Null values in this column were treated as uninvited users.\n",
    "\n",
    "Regarding the \"last_session_creation_time\" column, it's important to note that the 8823 non-null values correspond to users who have logged into the product at least once, while the remaining 3177 null values indicate users who have not logged in since their account creation. This column will be dropped before modeling, as it was used solely for identifying adopted users.\n",
    "\n",
    "Our focus now is to identify adopted users based on user engagement data.\n"
   ]
  },
  {
   "cell_type": "code",
   "execution_count": 13,
   "id": "94e3e55f",
   "metadata": {
    "scrolled": false
   },
   "outputs": [
    {
     "data": {
      "text/html": [
       "<div>\n",
       "<style scoped>\n",
       "    .dataframe tbody tr th:only-of-type {\n",
       "        vertical-align: middle;\n",
       "    }\n",
       "\n",
       "    .dataframe tbody tr th {\n",
       "        vertical-align: top;\n",
       "    }\n",
       "\n",
       "    .dataframe thead th {\n",
       "        text-align: right;\n",
       "    }\n",
       "</style>\n",
       "<table border=\"1\" class=\"dataframe\">\n",
       "  <thead>\n",
       "    <tr style=\"text-align: right;\">\n",
       "      <th></th>\n",
       "      <th>creation_time</th>\n",
       "      <th>creation_source</th>\n",
       "      <th>last_session_creation_time</th>\n",
       "      <th>opted_in_to_mailing_list</th>\n",
       "      <th>enabled_for_marketing_drip</th>\n",
       "      <th>org_id</th>\n",
       "      <th>invited_by_user</th>\n",
       "      <th>adopted_user</th>\n",
       "    </tr>\n",
       "    <tr>\n",
       "      <th>user_id</th>\n",
       "      <th></th>\n",
       "      <th></th>\n",
       "      <th></th>\n",
       "      <th></th>\n",
       "      <th></th>\n",
       "      <th></th>\n",
       "      <th></th>\n",
       "      <th></th>\n",
       "    </tr>\n",
       "  </thead>\n",
       "  <tbody>\n",
       "    <tr>\n",
       "      <th>1</th>\n",
       "      <td>2014-04-22 03:53:30</td>\n",
       "      <td>GUEST_INVITE</td>\n",
       "      <td>2014-04-22 03:53:30</td>\n",
       "      <td>1</td>\n",
       "      <td>0</td>\n",
       "      <td>11</td>\n",
       "      <td>1</td>\n",
       "      <td>0</td>\n",
       "    </tr>\n",
       "    <tr>\n",
       "      <th>2</th>\n",
       "      <td>2013-11-15 03:45:04</td>\n",
       "      <td>ORG_INVITE</td>\n",
       "      <td>2014-03-31 03:45:04</td>\n",
       "      <td>0</td>\n",
       "      <td>0</td>\n",
       "      <td>1</td>\n",
       "      <td>1</td>\n",
       "      <td>0</td>\n",
       "    </tr>\n",
       "    <tr>\n",
       "      <th>3</th>\n",
       "      <td>2013-03-19 23:14:52</td>\n",
       "      <td>ORG_INVITE</td>\n",
       "      <td>2013-03-19 23:14:52</td>\n",
       "      <td>0</td>\n",
       "      <td>0</td>\n",
       "      <td>94</td>\n",
       "      <td>1</td>\n",
       "      <td>0</td>\n",
       "    </tr>\n",
       "    <tr>\n",
       "      <th>4</th>\n",
       "      <td>2013-05-21 08:09:28</td>\n",
       "      <td>GUEST_INVITE</td>\n",
       "      <td>2013-05-22 08:09:28</td>\n",
       "      <td>0</td>\n",
       "      <td>0</td>\n",
       "      <td>1</td>\n",
       "      <td>1</td>\n",
       "      <td>0</td>\n",
       "    </tr>\n",
       "    <tr>\n",
       "      <th>5</th>\n",
       "      <td>2013-01-17 10:14:20</td>\n",
       "      <td>GUEST_INVITE</td>\n",
       "      <td>2013-01-22 10:14:20</td>\n",
       "      <td>0</td>\n",
       "      <td>0</td>\n",
       "      <td>193</td>\n",
       "      <td>1</td>\n",
       "      <td>0</td>\n",
       "    </tr>\n",
       "  </tbody>\n",
       "</table>\n",
       "</div>"
      ],
      "text/plain": [
       "              creation_time creation_source last_session_creation_time  \\\n",
       "user_id                                                                  \n",
       "1       2014-04-22 03:53:30    GUEST_INVITE        2014-04-22 03:53:30   \n",
       "2       2013-11-15 03:45:04      ORG_INVITE        2014-03-31 03:45:04   \n",
       "3       2013-03-19 23:14:52      ORG_INVITE        2013-03-19 23:14:52   \n",
       "4       2013-05-21 08:09:28    GUEST_INVITE        2013-05-22 08:09:28   \n",
       "5       2013-01-17 10:14:20    GUEST_INVITE        2013-01-22 10:14:20   \n",
       "\n",
       "         opted_in_to_mailing_list  enabled_for_marketing_drip  org_id  \\\n",
       "user_id                                                                 \n",
       "1                               1                           0      11   \n",
       "2                               0                           0       1   \n",
       "3                               0                           0      94   \n",
       "4                               0                           0       1   \n",
       "5                               0                           0     193   \n",
       "\n",
       "         invited_by_user  adopted_user  \n",
       "user_id                                 \n",
       "1                      1             0  \n",
       "2                      1             0  \n",
       "3                      1             0  \n",
       "4                      1             0  \n",
       "5                      1             0  "
      ]
     },
     "execution_count": 13,
     "metadata": {},
     "output_type": "execute_result"
    }
   ],
   "source": [
    "# Create the target variable column and set all values to 0\n",
    "users['adopted_user'] = 0\n",
    "\n",
    "users.head()"
   ]
  },
  {
   "cell_type": "markdown",
   "id": "afe62cc2",
   "metadata": {},
   "source": [
    "### Calculating User Engagement Duration\n",
    "\n",
    "We are calculating the duration for which users have been engaging with the product. To do this, we set the reference date as the most recent date from the user engagement data. By measuring the duration between the creation date and the reference date, we can capture how long each user has been using the product based on their last recorded activity. This provides a more current measure of user engagement, which can be valuable for predicting adopted users.\n"
   ]
  },
  {
   "cell_type": "code",
   "execution_count": 14,
   "id": "f0e85178",
   "metadata": {
    "scrolled": true
   },
   "outputs": [
    {
     "data": {
      "text/html": [
       "<div>\n",
       "<style scoped>\n",
       "    .dataframe tbody tr th:only-of-type {\n",
       "        vertical-align: middle;\n",
       "    }\n",
       "\n",
       "    .dataframe tbody tr th {\n",
       "        vertical-align: top;\n",
       "    }\n",
       "\n",
       "    .dataframe thead th {\n",
       "        text-align: right;\n",
       "    }\n",
       "</style>\n",
       "<table border=\"1\" class=\"dataframe\">\n",
       "  <thead>\n",
       "    <tr style=\"text-align: right;\">\n",
       "      <th></th>\n",
       "      <th>creation_time</th>\n",
       "      <th>creation_source</th>\n",
       "      <th>last_session_creation_time</th>\n",
       "      <th>opted_in_to_mailing_list</th>\n",
       "      <th>enabled_for_marketing_drip</th>\n",
       "      <th>org_id</th>\n",
       "      <th>invited_by_user</th>\n",
       "      <th>adopted_user</th>\n",
       "      <th>usage_duration</th>\n",
       "    </tr>\n",
       "    <tr>\n",
       "      <th>user_id</th>\n",
       "      <th></th>\n",
       "      <th></th>\n",
       "      <th></th>\n",
       "      <th></th>\n",
       "      <th></th>\n",
       "      <th></th>\n",
       "      <th></th>\n",
       "      <th></th>\n",
       "      <th></th>\n",
       "    </tr>\n",
       "  </thead>\n",
       "  <tbody>\n",
       "    <tr>\n",
       "      <th>1</th>\n",
       "      <td>2014-04-22 03:53:30</td>\n",
       "      <td>GUEST_INVITE</td>\n",
       "      <td>2014-04-22 03:53:30</td>\n",
       "      <td>1</td>\n",
       "      <td>0</td>\n",
       "      <td>11</td>\n",
       "      <td>1</td>\n",
       "      <td>0</td>\n",
       "      <td>45</td>\n",
       "    </tr>\n",
       "    <tr>\n",
       "      <th>2</th>\n",
       "      <td>2013-11-15 03:45:04</td>\n",
       "      <td>ORG_INVITE</td>\n",
       "      <td>2014-03-31 03:45:04</td>\n",
       "      <td>0</td>\n",
       "      <td>0</td>\n",
       "      <td>1</td>\n",
       "      <td>1</td>\n",
       "      <td>0</td>\n",
       "      <td>203</td>\n",
       "    </tr>\n",
       "    <tr>\n",
       "      <th>3</th>\n",
       "      <td>2013-03-19 23:14:52</td>\n",
       "      <td>ORG_INVITE</td>\n",
       "      <td>2013-03-19 23:14:52</td>\n",
       "      <td>0</td>\n",
       "      <td>0</td>\n",
       "      <td>94</td>\n",
       "      <td>1</td>\n",
       "      <td>0</td>\n",
       "      <td>443</td>\n",
       "    </tr>\n",
       "    <tr>\n",
       "      <th>4</th>\n",
       "      <td>2013-05-21 08:09:28</td>\n",
       "      <td>GUEST_INVITE</td>\n",
       "      <td>2013-05-22 08:09:28</td>\n",
       "      <td>0</td>\n",
       "      <td>0</td>\n",
       "      <td>1</td>\n",
       "      <td>1</td>\n",
       "      <td>0</td>\n",
       "      <td>381</td>\n",
       "    </tr>\n",
       "    <tr>\n",
       "      <th>5</th>\n",
       "      <td>2013-01-17 10:14:20</td>\n",
       "      <td>GUEST_INVITE</td>\n",
       "      <td>2013-01-22 10:14:20</td>\n",
       "      <td>0</td>\n",
       "      <td>0</td>\n",
       "      <td>193</td>\n",
       "      <td>1</td>\n",
       "      <td>0</td>\n",
       "      <td>505</td>\n",
       "    </tr>\n",
       "  </tbody>\n",
       "</table>\n",
       "</div>"
      ],
      "text/plain": [
       "              creation_time creation_source last_session_creation_time  \\\n",
       "user_id                                                                  \n",
       "1       2014-04-22 03:53:30    GUEST_INVITE        2014-04-22 03:53:30   \n",
       "2       2013-11-15 03:45:04      ORG_INVITE        2014-03-31 03:45:04   \n",
       "3       2013-03-19 23:14:52      ORG_INVITE        2013-03-19 23:14:52   \n",
       "4       2013-05-21 08:09:28    GUEST_INVITE        2013-05-22 08:09:28   \n",
       "5       2013-01-17 10:14:20    GUEST_INVITE        2013-01-22 10:14:20   \n",
       "\n",
       "         opted_in_to_mailing_list  enabled_for_marketing_drip  org_id  \\\n",
       "user_id                                                                 \n",
       "1                               1                           0      11   \n",
       "2                               0                           0       1   \n",
       "3                               0                           0      94   \n",
       "4                               0                           0       1   \n",
       "5                               0                           0     193   \n",
       "\n",
       "         invited_by_user  adopted_user  usage_duration  \n",
       "user_id                                                 \n",
       "1                      1             0              45  \n",
       "2                      1             0             203  \n",
       "3                      1             0             443  \n",
       "4                      1             0             381  \n",
       "5                      1             0             505  "
      ]
     },
     "execution_count": 14,
     "metadata": {},
     "output_type": "execute_result"
    }
   ],
   "source": [
    "# Find the latest date in user_engagement\n",
    "latest_date = user_engagement['time_stamp'].max()\n",
    "\n",
    "# Convert it to a datetime object\n",
    "latest_date = pd.to_datetime(latest_date)\n",
    "\n",
    "# Calculate the duration using the latest date as the reference\n",
    "users['usage_duration'] = (latest_date - users['creation_time']).dt.days\n",
    "\n",
    "users.head()"
   ]
  },
  {
   "cell_type": "code",
   "execution_count": 15,
   "id": "fbb89a19",
   "metadata": {
    "scrolled": false
   },
   "outputs": [
    {
     "data": {
      "text/plain": [
       "count    12000.000000\n",
       "mean       324.568000\n",
       "std        216.646173\n",
       "min          6.000000\n",
       "25%        129.000000\n",
       "50%        304.000000\n",
       "75%        506.000000\n",
       "max        736.000000\n",
       "Name: usage_duration, dtype: float64"
      ]
     },
     "execution_count": 15,
     "metadata": {},
     "output_type": "execute_result"
    }
   ],
   "source": [
    "users['usage_duration'].describe()"
   ]
  },
  {
   "cell_type": "code",
   "execution_count": 16,
   "id": "fc416a7b",
   "metadata": {},
   "outputs": [],
   "source": [
    "#One-hot encoding for final non-numeric column to be used in modeling\n",
    "users = pd.get_dummies(users, columns=['creation_source'], drop_first=True)\n",
    "users.drop('creation_time', axis=1, inplace=True)"
   ]
  },
  {
   "cell_type": "code",
   "execution_count": 17,
   "id": "9c0663d9",
   "metadata": {
    "scrolled": false
   },
   "outputs": [
    {
     "name": "stdout",
     "output_type": "stream",
     "text": [
      "1    207917\n",
      "Name: visited, dtype: int64\n"
     ]
    }
   ],
   "source": [
    "visited_counts = user_engagement['visited'].value_counts()\n",
    "print(visited_counts)"
   ]
  },
  {
   "cell_type": "code",
   "execution_count": 18,
   "id": "226e88fe",
   "metadata": {
    "scrolled": false
   },
   "outputs": [],
   "source": [
    "user_engagement['time_stamp'] = pd.to_datetime(user_engagement['time_stamp'])\n",
    "\n",
    "# Create an empty list to store adopted user IDs\n",
    "adopted_users = []\n",
    "\n",
    "# Iterate over unique user IDs\n",
    "for user_id in user_engagement['user_id'].unique():\n",
    "    user_data = user_engagement[user_engagement['user_id'] == user_id]\n",
    "    \n",
    "    if len(user_data) >= 3:\n",
    "        user_data = user_data.set_index('time_stamp')\n",
    "        if user_data.resample('D').count().rolling(window=7).sum()['visited'].max() >= 3:\n",
    "            adopted_users.append(user_id)\n",
    "\n",
    "# Now, 'adopted_users' contains the IDs of adopted users"
   ]
  },
  {
   "cell_type": "code",
   "execution_count": 19,
   "id": "a443141a",
   "metadata": {
    "scrolled": true
   },
   "outputs": [
    {
     "data": {
      "text/html": [
       "<div>\n",
       "<style scoped>\n",
       "    .dataframe tbody tr th:only-of-type {\n",
       "        vertical-align: middle;\n",
       "    }\n",
       "\n",
       "    .dataframe tbody tr th {\n",
       "        vertical-align: top;\n",
       "    }\n",
       "\n",
       "    .dataframe thead th {\n",
       "        text-align: right;\n",
       "    }\n",
       "</style>\n",
       "<table border=\"1\" class=\"dataframe\">\n",
       "  <thead>\n",
       "    <tr style=\"text-align: right;\">\n",
       "      <th></th>\n",
       "      <th>last_session_creation_time</th>\n",
       "      <th>opted_in_to_mailing_list</th>\n",
       "      <th>enabled_for_marketing_drip</th>\n",
       "      <th>org_id</th>\n",
       "      <th>invited_by_user</th>\n",
       "      <th>adopted_user</th>\n",
       "      <th>usage_duration</th>\n",
       "      <th>creation_source_ORG_INVITE</th>\n",
       "      <th>creation_source_PERSONAL_PROJECTS</th>\n",
       "      <th>creation_source_SIGNUP</th>\n",
       "      <th>creation_source_SIGNUP_GOOGLE_AUTH</th>\n",
       "      <th>adopted</th>\n",
       "    </tr>\n",
       "    <tr>\n",
       "      <th>user_id</th>\n",
       "      <th></th>\n",
       "      <th></th>\n",
       "      <th></th>\n",
       "      <th></th>\n",
       "      <th></th>\n",
       "      <th></th>\n",
       "      <th></th>\n",
       "      <th></th>\n",
       "      <th></th>\n",
       "      <th></th>\n",
       "      <th></th>\n",
       "      <th></th>\n",
       "    </tr>\n",
       "  </thead>\n",
       "  <tbody>\n",
       "    <tr>\n",
       "      <th>1</th>\n",
       "      <td>2014-04-22 03:53:30</td>\n",
       "      <td>1</td>\n",
       "      <td>0</td>\n",
       "      <td>11</td>\n",
       "      <td>1</td>\n",
       "      <td>0</td>\n",
       "      <td>45</td>\n",
       "      <td>0</td>\n",
       "      <td>0</td>\n",
       "      <td>0</td>\n",
       "      <td>0</td>\n",
       "      <td>0</td>\n",
       "    </tr>\n",
       "    <tr>\n",
       "      <th>2</th>\n",
       "      <td>2014-03-31 03:45:04</td>\n",
       "      <td>0</td>\n",
       "      <td>0</td>\n",
       "      <td>1</td>\n",
       "      <td>1</td>\n",
       "      <td>0</td>\n",
       "      <td>203</td>\n",
       "      <td>1</td>\n",
       "      <td>0</td>\n",
       "      <td>0</td>\n",
       "      <td>0</td>\n",
       "      <td>1</td>\n",
       "    </tr>\n",
       "    <tr>\n",
       "      <th>3</th>\n",
       "      <td>2013-03-19 23:14:52</td>\n",
       "      <td>0</td>\n",
       "      <td>0</td>\n",
       "      <td>94</td>\n",
       "      <td>1</td>\n",
       "      <td>0</td>\n",
       "      <td>443</td>\n",
       "      <td>1</td>\n",
       "      <td>0</td>\n",
       "      <td>0</td>\n",
       "      <td>0</td>\n",
       "      <td>0</td>\n",
       "    </tr>\n",
       "    <tr>\n",
       "      <th>4</th>\n",
       "      <td>2013-05-22 08:09:28</td>\n",
       "      <td>0</td>\n",
       "      <td>0</td>\n",
       "      <td>1</td>\n",
       "      <td>1</td>\n",
       "      <td>0</td>\n",
       "      <td>381</td>\n",
       "      <td>0</td>\n",
       "      <td>0</td>\n",
       "      <td>0</td>\n",
       "      <td>0</td>\n",
       "      <td>0</td>\n",
       "    </tr>\n",
       "    <tr>\n",
       "      <th>5</th>\n",
       "      <td>2013-01-22 10:14:20</td>\n",
       "      <td>0</td>\n",
       "      <td>0</td>\n",
       "      <td>193</td>\n",
       "      <td>1</td>\n",
       "      <td>0</td>\n",
       "      <td>505</td>\n",
       "      <td>0</td>\n",
       "      <td>0</td>\n",
       "      <td>0</td>\n",
       "      <td>0</td>\n",
       "      <td>0</td>\n",
       "    </tr>\n",
       "  </tbody>\n",
       "</table>\n",
       "</div>"
      ],
      "text/plain": [
       "        last_session_creation_time  opted_in_to_mailing_list  \\\n",
       "user_id                                                        \n",
       "1              2014-04-22 03:53:30                         1   \n",
       "2              2014-03-31 03:45:04                         0   \n",
       "3              2013-03-19 23:14:52                         0   \n",
       "4              2013-05-22 08:09:28                         0   \n",
       "5              2013-01-22 10:14:20                         0   \n",
       "\n",
       "         enabled_for_marketing_drip  org_id  invited_by_user  adopted_user  \\\n",
       "user_id                                                                      \n",
       "1                                 0      11                1             0   \n",
       "2                                 0       1                1             0   \n",
       "3                                 0      94                1             0   \n",
       "4                                 0       1                1             0   \n",
       "5                                 0     193                1             0   \n",
       "\n",
       "         usage_duration  creation_source_ORG_INVITE  \\\n",
       "user_id                                               \n",
       "1                    45                           0   \n",
       "2                   203                           1   \n",
       "3                   443                           1   \n",
       "4                   381                           0   \n",
       "5                   505                           0   \n",
       "\n",
       "         creation_source_PERSONAL_PROJECTS  creation_source_SIGNUP  \\\n",
       "user_id                                                              \n",
       "1                                        0                       0   \n",
       "2                                        0                       0   \n",
       "3                                        0                       0   \n",
       "4                                        0                       0   \n",
       "5                                        0                       0   \n",
       "\n",
       "         creation_source_SIGNUP_GOOGLE_AUTH  adopted  \n",
       "user_id                                               \n",
       "1                                         0        0  \n",
       "2                                         0        1  \n",
       "3                                         0        0  \n",
       "4                                         0        0  \n",
       "5                                         0        0  "
      ]
     },
     "execution_count": 19,
     "metadata": {},
     "output_type": "execute_result"
    }
   ],
   "source": [
    "users['adopted'] = users.index.to_series().apply(lambda x: x in adopted_users).astype(int)\n",
    "\n",
    "users.head()"
   ]
  },
  {
   "cell_type": "code",
   "execution_count": 20,
   "id": "ceab3186",
   "metadata": {
    "scrolled": false
   },
   "outputs": [
    {
     "name": "stdout",
     "output_type": "stream",
     "text": [
      "0    10403\n",
      "1     1597\n",
      "Name: adopted, dtype: int64\n"
     ]
    }
   ],
   "source": [
    "# Count the values of the 'adopted' column\n",
    "adopted_count = users['adopted'].value_counts()\n",
    "\n",
    "# Drop the 'last_session_creation_time' column\n",
    "users.drop(['last_session_creation_time'], axis=1, inplace=True)\n",
    "\n",
    "# Display the count of adopted and non-adopted users\n",
    "print(adopted_count)"
   ]
  },
  {
   "cell_type": "markdown",
   "id": "9da3ed97",
   "metadata": {},
   "source": [
    "## Data Preparation and Exploration\n",
    "\n",
    "- We loaded two datasets, \"takehome_users.csv\" and \"takehome_user_engagement.csv.\"\n",
    "- We cleaned and preprocessed the data, handling null values and creating a target variable for \"adopted users.\"\n",
    "- The class distribution for the target variable is imbalanced, with 10,403 non-adopted users and 1,597 adopted users.\n",
    "\n",
    "Now on to the modeling phase."
   ]
  },
  {
   "cell_type": "markdown",
   "id": "eecf323a",
   "metadata": {},
   "source": [
    "## Modeling Phase\n",
    "\n",
    "In this phase, we will build a binary classification model to predict user adoption. We'll follow these steps:\n",
    "\n",
    "1. **Prepare Data:** \n",
    "   - Define the feature variables (X) and the target variable (y).\n",
    "   - Split the data into training and testing sets.\n",
    "\n",
    "2. **Model Selection:**\n",
    "   - Explore three different classification algorithms: Logistic Regression, Random Forest, and XGBoost.\n",
    "   - Tune the hyperparameters for each model using grid search.\n",
    "\n",
    "3. **Model Training and Evaluation:**\n",
    "   - Train the models on the training data.\n",
    "   - Evaluate model performance using accuracy, precision, recall, F1-score, and confusion matrices.\n"
   ]
  },
  {
   "cell_type": "code",
   "execution_count": 21,
   "id": "6f509862",
   "metadata": {},
   "outputs": [],
   "source": [
    "#Split data into train and test splits\n",
    "X = users.drop('adopted', axis=1)\n",
    "y = users['adopted']\n",
    "\n",
    "# Create a SMOTE instance\n",
    "smote = SMOTE(sampling_strategy='auto', random_state=42)\n",
    "\n",
    "# Apply SMOTE to balance the dataset\n",
    "X_resampled, y_resampled = smote.fit_resample(X, y)\n",
    "\n",
    "# Split the resampled data into training and testing sets\n",
    "X_train, X_test, y_train, y_test = train_test_split(X_resampled, y_resampled, test_size=0.2, random_state=42)"
   ]
  },
  {
   "cell_type": "markdown",
   "id": "afbbf6ef",
   "metadata": {},
   "source": [
    "###  Grid Search - Hyperparameter Tuning for Random Forest and XGBoost"
   ]
  },
  {
   "cell_type": "code",
   "execution_count": 22,
   "id": "8a934752",
   "metadata": {},
   "outputs": [
    {
     "name": "stdout",
     "output_type": "stream",
     "text": [
      "Best n_estimators for Random Forest: 150\n",
      "Best max_depth for Random Forest: 30\n"
     ]
    }
   ],
   "source": [
    "param_grid = {\n",
    "    'n_estimators': [50, 100, 150, 200],  \n",
    "    'max_depth': [10, 20, 30, None],\n",
    "}\n",
    "\n",
    "# Create the Random Forest classifier\n",
    "rf_classifier = RandomForestClassifier(random_state=42)\n",
    "\n",
    "# Create a GridSearchCV instance\n",
    "grid_search_rf = GridSearchCV(estimator=rf_classifier, param_grid=param_grid, cv=3, scoring='accuracy', n_jobs=-1)\n",
    "\n",
    "# Fit the grid search to your training data\n",
    "grid_search_rf.fit(X_train, y_train)\n",
    "\n",
    "# Get the best hyperparameters\n",
    "best_n_estimators_rf = grid_search_rf.best_params_['n_estimators']\n",
    "best_max_depth_rf = grid_search_rf.best_params_['max_depth']\n",
    "\n",
    "# Print the best hyperparameters\n",
    "print(f\"Best n_estimators for Random Forest: {best_n_estimators_rf}\")\n",
    "print(f\"Best max_depth for Random Forest: {best_max_depth_rf}\")"
   ]
  },
  {
   "cell_type": "code",
   "execution_count": 23,
   "id": "60aa184f",
   "metadata": {},
   "outputs": [
    {
     "name": "stdout",
     "output_type": "stream",
     "text": [
      "Best n_estimators for XGBoost: 200\n",
      "Best max_depth for XGBoost: 5\n",
      "Best learning_rate for XGBoost: 0.2\n"
     ]
    }
   ],
   "source": [
    "from xgboost import XGBClassifier\n",
    "\n",
    "# Define the hyperparameter grid for XGBoost\n",
    "param_grid_xgboost = {\n",
    "    'n_estimators': [50, 100, 150, 200],\n",
    "    'max_depth': [3, 4, 5],\n",
    "    'learning_rate': [0.01, 0.1, 0.2]\n",
    "}\n",
    "\n",
    "# Create the XGBoost classifier\n",
    "xgboost_classifier = XGBClassifier(random_state=42)\n",
    "\n",
    "# Create a GridSearchCV instance\n",
    "grid_search_xgboost = GridSearchCV(estimator=xgboost_classifier, param_grid=param_grid_xgboost, cv=3, scoring='accuracy', n_jobs=-1)\n",
    "\n",
    "# Fit the grid search to your training data\n",
    "grid_search_xgboost.fit(X_train, y_train)\n",
    "\n",
    "# Get the best hyperparameters\n",
    "best_n_estimators_xgboost = grid_search_xgboost.best_params_['n_estimators']\n",
    "best_max_depth_xgboost = grid_search_xgboost.best_params_['max_depth']\n",
    "best_learning_rate_xgboost = grid_search_xgboost.best_params_['learning_rate']\n",
    "\n",
    "# Print the best hyperparameters for XGBoost\n",
    "print(f\"Best n_estimators for XGBoost: {best_n_estimators_xgboost}\")\n",
    "print(f\"Best max_depth for XGBoost: {best_max_depth_xgboost}\")\n",
    "print(f\"Best learning_rate for XGBoost: {best_learning_rate_xgboost}\")"
   ]
  },
  {
   "cell_type": "markdown",
   "id": "74dcc9d3",
   "metadata": {},
   "source": [
    "# Logistic Regression Model\n",
    "\n",
    "In this section, we will construct and evaluate a Logistic Regression model designed to predict user adoption. Logistic Regression is a classification algorithm suitable for binary classification tasks, making it a fitting choice for determining whether users will become adopted or not.\n",
    "\n",
    "Our workflow for this model will entail the following key steps:\n",
    "\n",
    "1. Data Split: We will divide the dataset into training and validation sets, allowing us to both train and evaluate the model's performance effectively.\n",
    "\n",
    "2. Model Development: We will create a Logistic Regression model and train it using the training dataset.\n",
    "\n",
    "3. Model Assessment: Our evaluation process will involve a comprehensive analysis of the model's performance, taking into account various metrics such as accuracy, precision, recall, and the F1-score.\n",
    "\n",
    "4. Interpretation: We will delve into the results to gain insights into how well the model predicts user adoption and the factors influencing it.\n",
    "\n",
    "With this approach, we aim to build and assess the Logistic Regression model's capability to predict user adoption accurately. Let's proceed with this crucial step."
   ]
  },
  {
   "cell_type": "code",
   "execution_count": 24,
   "id": "82a67e9f",
   "metadata": {},
   "outputs": [],
   "source": [
    "logreg = LogisticRegression(max_iter=1000, random_state=42)\n",
    "\n",
    "logreg.fit(X_train, y_train)\n",
    "\n",
    "y_pred = logreg.predict(X_test)"
   ]
  },
  {
   "cell_type": "code",
   "execution_count": 25,
   "id": "6a93dcf5",
   "metadata": {
    "scrolled": true
   },
   "outputs": [
    {
     "name": "stdout",
     "output_type": "stream",
     "text": [
      "Accuracy: 0.78\n",
      "Classification Report:\n",
      "              precision    recall  f1-score   support\n",
      "\n",
      "           0       0.72      0.89      0.80      2054\n",
      "           1       0.86      0.67      0.75      2108\n",
      "\n",
      "    accuracy                           0.78      4162\n",
      "   macro avg       0.79      0.78      0.77      4162\n",
      "weighted avg       0.79      0.78      0.77      4162\n",
      "\n",
      "Confusion Matrix:\n",
      "[[1830  224]\n",
      " [ 705 1403]]\n"
     ]
    }
   ],
   "source": [
    "accuracy = accuracy_score(y_test, y_pred)\n",
    "print(f\"Accuracy: {accuracy:.2f}\")\n",
    "\n",
    "print(\"Classification Report:\")\n",
    "print(classification_report(y_test, y_pred))\n",
    "\n",
    "print(\"Confusion Matrix:\")\n",
    "print(confusion_matrix(y_test, y_pred))"
   ]
  },
  {
   "cell_type": "code",
   "execution_count": 26,
   "id": "6dddcd65",
   "metadata": {},
   "outputs": [],
   "source": [
    "# Create the Random Forest classifier\n",
    "rf_classifier = RandomForestClassifier(n_estimators=150, max_depth=30, random_state=42)\n",
    "\n",
    "# Train the model on the training data\n",
    "rf_classifier.fit(X_train, y_train)\n",
    "\n",
    "rf_y_pred = rf_classifier.predict(X_test)"
   ]
  },
  {
   "cell_type": "code",
   "execution_count": 27,
   "id": "03758d90",
   "metadata": {
    "scrolled": true
   },
   "outputs": [
    {
     "name": "stdout",
     "output_type": "stream",
     "text": [
      "Accuracy: 0.86\n",
      "Classification Report:\n",
      "              precision    recall  f1-score   support\n",
      "\n",
      "           0       0.85      0.87      0.86      2054\n",
      "           1       0.87      0.85      0.86      2108\n",
      "\n",
      "    accuracy                           0.86      4162\n",
      "   macro avg       0.86      0.86      0.86      4162\n",
      "weighted avg       0.86      0.86      0.86      4162\n",
      "\n",
      "Confusion Matrix:\n",
      "[[1785  269]\n",
      " [ 306 1802]]\n"
     ]
    }
   ],
   "source": [
    "rf_accuracy = accuracy_score(y_test, rf_y_pred)\n",
    "print(f\"Accuracy: {rf_accuracy:.2f}\")\n",
    "\n",
    "print(\"Classification Report:\")\n",
    "print(classification_report(y_test, rf_y_pred))\n",
    "\n",
    "print(\"Confusion Matrix:\")\n",
    "print(confusion_matrix(y_test, rf_y_pred))"
   ]
  },
  {
   "cell_type": "code",
   "execution_count": 28,
   "id": "de495cee",
   "metadata": {},
   "outputs": [],
   "source": [
    "xgb_params = {\n",
    "    'n_estimators': 200,\n",
    "    'max_depth': 5,\n",
    "    'learning_rate': 0.2,\n",
    "    'random_state': 42,\n",
    "}\n",
    "\n",
    "xgb_classifier = XGBClassifier(**xgb_params)\n",
    "\n",
    "xgb_classifier.fit(X_train, y_train)\n",
    "\n",
    "xgb_y_pred = xgb_classifier.predict(X_test)"
   ]
  },
  {
   "cell_type": "code",
   "execution_count": 29,
   "id": "6e1733ff",
   "metadata": {
    "scrolled": true
   },
   "outputs": [
    {
     "name": "stdout",
     "output_type": "stream",
     "text": [
      "Accuracy: 0.82\n",
      "Classification Report:\n",
      "              precision    recall  f1-score   support\n",
      "\n",
      "           0       0.79      0.87      0.83      2054\n",
      "           1       0.86      0.77      0.81      2108\n",
      "\n",
      "    accuracy                           0.82      4162\n",
      "   macro avg       0.82      0.82      0.82      4162\n",
      "weighted avg       0.82      0.82      0.82      4162\n",
      "\n",
      "Confusion Matrix:\n",
      "[[1781  273]\n",
      " [ 479 1629]]\n"
     ]
    }
   ],
   "source": [
    "xgb_accuracy = accuracy_score(y_test, xgb_y_pred)\n",
    "print(f\"Accuracy: {xgb_accuracy:.2f}\")\n",
    "\n",
    "print(\"Classification Report:\")\n",
    "print(classification_report(y_test, xgb_y_pred))\n",
    "\n",
    "print(\"Confusion Matrix:\")\n",
    "print(confusion_matrix(y_test, xgb_y_pred))"
   ]
  },
  {
   "cell_type": "markdown",
   "id": "0bdcb25e",
   "metadata": {},
   "source": [
    "### Model Comparison\n",
    "\n",
    "| Model            | Accuracy | Precision | Recall  | F1-Score |\n",
    "|------------------|----------|-----------|---------|----------|\n",
    "| Logistic Regression | 0.78     | 0.75      | 0.78    | 0.77     |\n",
    "| Random Forest    | 0.86     | 0.86      | 0.86    | 0.86     |\n",
    "| XGBoost          | 0.82     | 0.82      | 0.82    | 0.82     |\n",
    "\n",
    "- **Accuracy:** The proportion of correct predictions.\n",
    "- **Precision:** The ability of the model to avoid false positives.\n",
    "- **Recall:** The ability of the model to identify true positives.\n",
    "- **F1-Score:** The harmonic mean of precision and recall.\n",
    "\n",
    "These metrics are based on the adopted user prediction task after addressing class imbalance.\n"
   ]
  },
  {
   "cell_type": "code",
   "execution_count": 30,
   "id": "2dbf4389",
   "metadata": {
    "scrolled": true
   },
   "outputs": [
    {
     "name": "stdout",
     "output_type": "stream",
     "text": [
      "                              Feature  Importance\n",
      "5                      usage_duration    0.336047\n",
      "2                              org_id    0.255910\n",
      "7   creation_source_PERSONAL_PROJECTS    0.098205\n",
      "8              creation_source_SIGNUP    0.086424\n",
      "9  creation_source_SIGNUP_GOOGLE_AUTH    0.068861\n",
      "3                     invited_by_user    0.063204\n",
      "6          creation_source_ORG_INVITE    0.057449\n",
      "0            opted_in_to_mailing_list    0.019461\n",
      "1          enabled_for_marketing_drip    0.014438\n",
      "4                        adopted_user    0.000000\n"
     ]
    }
   ],
   "source": [
    "importances = rf_classifier.feature_importances_\n",
    "\n",
    "# Get the names of the features\n",
    "feature_names = X.columns\n",
    "\n",
    "# Create a DataFrame to organize the feature names and their importance scores\n",
    "feature_importance_df = pd.DataFrame({'Feature': feature_names, 'Importance': importances})\n",
    "\n",
    "# Sort the features by importance in descending order\n",
    "feature_importance_df = feature_importance_df.sort_values(by='Importance', ascending=False)\n",
    "\n",
    "# Display the top N features with their importance scores\n",
    "top_n = 10  # You can change this to show more or fewer features\n",
    "top_features = feature_importance_df.head(top_n)\n",
    "print(top_features)"
   ]
  },
  {
   "cell_type": "markdown",
   "id": "2113ad20",
   "metadata": {},
   "source": [
    "## Recommendations to Improve User Adoption\n",
    "\n",
    "1. **Usage Duration**: While `usage_duration` is important, it's not easy to directly influence. However, you can use other strategies to increase it, such as offering incentives, loyalty programs, or improving the overall user experience to encourage more extended usage.\n",
    "\n",
    "2. **Organization Membership (org_id)**: Encourage users to participate in or join different organizations within the platform. Highlight the benefits of group engagement and collaboration. Consider organizing events, challenges, or forums for different organizations to boost user involvement.\n",
    "\n",
    "3. **Personal Projects (creation_source_PERSONAL_PROJECTS)**: Promote the creation of personal projects. Provide resources and tools to facilitate personal project development, and showcase success stories of users who have created valuable content or projects.\n",
    "\n",
    "4. **Direct Sign-up (creation_source_SIGNUP)**: Make the sign-up process seamless and user-friendly. Provide clear benefits of using your platform and make it easy for users to create an account. Consider optimizing the sign-up flow to reduce friction.\n",
    "\n",
    "5. **Google Authentication (creation_source_SIGNUP_GOOGLE_AUTH)**: Continue to offer Google authentication as a convenient sign-up method. Users appreciate quick and secure access. Ensure the process remains reliable and safe.\n",
    "\n",
    "6. **Invitations (invited_by_user)**: Implement a referral program where users can invite others to join the platform. Reward users for successful invitations, and provide tools to facilitate the invitation process.\n",
    "\n",
    "7. **Organization Invitations (creation_source_ORG_INVITE)**: Strengthen the organization invitation process. Encourage users to invite colleagues and friends to join organizations. Highlight the benefits of organization membership.\n",
    "\n",
    "8. **Mailing List (opted_in_to_mailing_list)**: Utilize email marketing effectively to keep users informed about new features, updates, and community events. Provide a clear opt-in process during registration and explain the value of subscribing.\n",
    "\n",
    "9. **Marketing Drip (enabled_for_marketing_drip)**: Implement a regular marketing drip campaign that educates users about the platform's features and benefits. Keep users engaged and informed with personalized content.\n",
    "\n",
    "These recommendations aim to leverage the most important features to improve user adoption. It's essential to keep monitoring user behavior and adapt your strategies as needed based on data and user feedback. Additionally, conducting A/B tests for various initiatives can help assess their impact on user adoption and retention.\n"
   ]
  }
 ],
 "metadata": {
  "kernelspec": {
   "display_name": "Python 3 (ipykernel)",
   "language": "python",
   "name": "python3"
  },
  "language_info": {
   "codemirror_mode": {
    "name": "ipython",
    "version": 3
   },
   "file_extension": ".py",
   "mimetype": "text/x-python",
   "name": "python",
   "nbconvert_exporter": "python",
   "pygments_lexer": "ipython3",
   "version": "3.9.13"
  }
 },
 "nbformat": 4,
 "nbformat_minor": 5
}
